{
  "cells": [
    {
      "cell_type": "markdown",
      "metadata": {
        "id": "view-in-github",
        "colab_type": "text"
      },
      "source": [
        "<a href=\"https://colab.research.google.com/github/LapTQ/surface_defect_detection/blob/main/surface_defect_detection.ipynb\" target=\"_parent\"><img src=\"https://colab.research.google.com/assets/colab-badge.svg\" alt=\"Open In Colab\"/></a>"
      ]
    },
    {
      "cell_type": "markdown",
      "source": [
        "Datasets:\n",
        "* Detection\n",
        " * [Steel Surface: NEU-CLS](http://faculty.neu.edu.cn/songkc/en/zdylm/263265/list/index.htm)\n",
        " * [DeepPBC](https://github.com/Charmve/Surface-Defect-Detection/tree/master/DeepPCB)\n",
        "* Segmenation\n",
        " * [Severstal: Steel Defect Detection](https://www.kaggle.com/c/severstal-steel-defect-detection/overview)\n",
        " * [AITEX FABRIC IMAGE DATABASE](https://www.aitex.es/afid/)"
      ],
      "metadata": {
        "id": "RdSoW8caiQXU"
      }
    },
    {
      "cell_type": "code",
      "source": [
        "!git clone https://github.com/LapTQ/surface_defect_detection.git"
      ],
      "metadata": {
        "colab": {
          "base_uri": "https://localhost:8080/"
        },
        "id": "4B8tjAu3Sjza",
        "outputId": "7f192f3c-d185-4b91-b36e-2af57474ee42"
      },
      "execution_count": 1,
      "outputs": [
        {
          "output_type": "stream",
          "name": "stdout",
          "text": [
            "Cloning into 'surface_defect_detection'...\n",
            "remote: Enumerating objects: 3634, done.\u001b[K\n",
            "remote: Counting objects: 100% (3634/3634), done.\u001b[K\n",
            "remote: Compressing objects: 100% (1920/1920), done.\u001b[K\n",
            "remote: Total 3634 (delta 1721), reused 3603 (delta 1710), pack-reused 0\u001b[K\n",
            "Receiving objects: 100% (3634/3634), 25.65 MiB | 20.15 MiB/s, done.\n",
            "Resolving deltas: 100% (1721/1721), done.\n"
          ]
        }
      ]
    },
    {
      "cell_type": "code",
      "source": [
        "# !cp /content/surface_defect_detection/NEU-DET/IMAGES /content/"
      ],
      "metadata": {
        "id": "1QsNjBGtgVKQ"
      },
      "execution_count": null,
      "outputs": []
    },
    {
      "cell_type": "code",
      "execution_count": 2,
      "metadata": {
        "id": "7otFLiDrhp0i",
        "outputId": "a16ff95c-8ef6-4a39-a4e0-7614aa1c48a7",
        "colab": {
          "base_uri": "https://localhost:8080/"
        }
      },
      "outputs": [
        {
          "output_type": "stream",
          "name": "stdout",
          "text": [
            "Cloning into 'yolov5'...\n",
            "remote: Enumerating objects: 11212, done.\u001b[K\n",
            "remote: Total 11212 (delta 0), reused 0 (delta 0), pack-reused 11212\u001b[K\n",
            "Receiving objects: 100% (11212/11212), 11.16 MiB | 17.06 MiB/s, done.\n",
            "Resolving deltas: 100% (7753/7753), done.\n"
          ]
        }
      ],
      "source": [
        "!git clone https://github.com/ultralytics/yolov5\n",
        "# !pip install -r yolov5/requirements.txt\n",
        "\n",
        "# %cd /content/yolov5"
      ]
    },
    {
      "cell_type": "code",
      "source": [
        "import torch\n",
        "from IPython.display import Image # for displaying images\n",
        "import os\n",
        "import random\n",
        "import shutil\n",
        "from sklearn.model_selection import train_test_split\n",
        "import xml.etree.ElementTree as ET\n",
        "from xml.dom import minidom\n",
        "# from tqdm import tqdm\n",
        "from PIL import Image, ImageDraw\n",
        "import numpy as np\n",
        "import matplotlib.pyplot as plt\n",
        "\n",
        "# from utils.google_utils import gdrive_download # for downloading models/datasets\n",
        "\n",
        "print('torch %s %s' % (torch.__version__, torch.cuda.get_device_properties(0) if torch.cuda.is_available() else 'CPU'))"
      ],
      "metadata": {
        "colab": {
          "base_uri": "https://localhost:8080/"
        },
        "id": "prvsEk75MIkv",
        "outputId": "cae64bd4-3241-411a-d7fc-8ec39ed12527"
      },
      "execution_count": 3,
      "outputs": [
        {
          "output_type": "stream",
          "name": "stdout",
          "text": [
            "torch 1.10.0+cu111 _CudaDeviceProperties(name='Tesla K80', major=3, minor=7, total_memory=11441MB, multi_processor_count=13)\n"
          ]
        }
      ]
    },
    {
      "cell_type": "code",
      "source": [
        "!cat surface_defect_detection/NEU-DET/ANNOTATIONS/crazing_2.xml"
      ],
      "metadata": {
        "colab": {
          "base_uri": "https://localhost:8080/"
        },
        "id": "6kGYxc5dSbD0",
        "outputId": "128f9a0f-9cb5-44cb-cb0a-fd0f537e8ad8"
      },
      "execution_count": 4,
      "outputs": [
        {
          "output_type": "stream",
          "name": "stdout",
          "text": [
            "<annotation>\n",
            "\t<folder>cr</folder>\n",
            "\t<filename>crazing_2.jpg</filename>\n",
            "\t<source>\n",
            "\t\t<database>NEU-DET</database>\n",
            "\t</source>\n",
            "\t<size>\n",
            "\t\t<width>200</width>\n",
            "\t\t<height>200</height>\n",
            "\t\t<depth>1</depth>\n",
            "\t</size>\n",
            "\t<segmented>0</segmented>\n",
            "\t<object>\n",
            "\t\t<name>crazing</name>\n",
            "\t\t<pose>Unspecified</pose>\n",
            "\t\t<truncated>1</truncated>\n",
            "\t\t<difficult>0</difficult>\n",
            "\t\t<bndbox>\n",
            "\t\t\t<xmin>99</xmin>\n",
            "\t\t\t<ymin>120</ymin>\n",
            "\t\t\t<xmax>200</xmax>\n",
            "\t\t\t<ymax>174</ymax>\n",
            "\t\t</bndbox>\n",
            "\t</object>\n",
            "\t<object>\n",
            "\t\t<name>crazing</name>\n",
            "\t\t<pose>Unspecified</pose>\n",
            "\t\t<truncated>1</truncated>\n",
            "\t\t<difficult>0</difficult>\n",
            "\t\t<bndbox>\n",
            "\t\t\t<xmin>8</xmin>\n",
            "\t\t\t<ymin>16</ymin>\n",
            "\t\t\t<xmax>200</xmax>\n",
            "\t\t\t<ymax>111</ymax>\n",
            "\t\t</bndbox>\n",
            "\t</object>\n",
            "</annotation>\n"
          ]
        }
      ]
    },
    {
      "cell_type": "code",
      "source": [
        "def extract_info_from_xml(xml_file):\n",
        "    xml_root = ET.parse(xml_file).getroot()\n",
        "\n",
        "    info = {}\n",
        "    info['bboxes'] = []\n",
        "    info['image_size'] = []\n",
        "\n",
        "    for element in xml_root:\n",
        "        # get image file name\n",
        "        if element.tag == 'filename':\n",
        "            info['filename'] = element.text\n",
        "\n",
        "        # get image size\n",
        "        if element.tag == 'size':\n",
        "            for sub_element in element:\n",
        "                info['image_size'].append(int(sub_element.text))\n",
        "        \n",
        "        # get bounding boxes\n",
        "        if element.tag == 'object':\n",
        "            bbox = {}\n",
        "            for sub_element in element:\n",
        "                if sub_element.tag == 'name':\n",
        "                    bbox['class'] = sub_element.text\n",
        "                elif sub_element.tag == 'bndbox':\n",
        "                    for sub_sub_element in sub_element:\n",
        "                        bbox[sub_sub_element.tag] = int(sub_sub_element.text)\n",
        "            info['bboxes'].append(bbox)\n",
        "    return info"
      ],
      "metadata": {
        "id": "GfcDjzEJhega"
      },
      "execution_count": 4,
      "outputs": []
    },
    {
      "cell_type": "code",
      "source": [
        "extract_info_from_xml('surface_defect_detection/NEU-DET/ANNOTATIONS/crazing_2.xml')"
      ],
      "metadata": {
        "colab": {
          "base_uri": "https://localhost:8080/"
        },
        "id": "SuROWxMZhuB4",
        "outputId": "8b0b2b1a-1ef7-43df-bcb5-d1f1f7226826"
      },
      "execution_count": 6,
      "outputs": [
        {
          "output_type": "execute_result",
          "data": {
            "text/plain": [
              "{'bboxes': [{'class': 'crazing',\n",
              "   'xmax': 200,\n",
              "   'xmin': 99,\n",
              "   'ymax': 174,\n",
              "   'ymin': 120},\n",
              "  {'class': 'crazing', 'xmax': 200, 'xmin': 8, 'ymax': 111, 'ymin': 16}],\n",
              " 'filename': 'crazing_2.jpg',\n",
              " 'image_size': [200, 200, 1]}"
            ]
          },
          "metadata": {},
          "execution_count": 6
        }
      ]
    },
    {
      "cell_type": "code",
      "source": [
        "from pathlib import Path"
      ],
      "metadata": {
        "id": "lAxdkwZMmw2n"
      },
      "execution_count": 5,
      "outputs": []
    },
    {
      "cell_type": "code",
      "source": [
        "def get_class_name(annotations_dir):\n",
        "    class_name = set()\n",
        "    annotations_dir = Path(annotations_dir)\n",
        "    for xml_path in annotations_dir.glob('*.xml'):\n",
        "        info = extract_info_from_xml(xml_path)\n",
        "        for bbox in info['bboxes']:\n",
        "            class_name.add(bbox['class'])\n",
        "    return class_name\n",
        "    \n",
        "class_name = get_class_name('surface_defect_detection/NEU-DET/ANNOTATIONS')\n",
        "\n",
        "# TODO\n",
        "class_name_to_id_mapping = {\n",
        "    'crazing': 0,\n",
        "    'inclusion': 1,\n",
        "    'patches': 2,\n",
        "    'pitted_surface': 3,\n",
        "    'rolled-in_scale': 4,\n",
        "    'scratches': 5\n",
        "}\n",
        "\n",
        "class_id_to_name_mapping = dict(zip(\n",
        "    class_name_to_id_mapping.values(),\n",
        "    class_name_to_id_mapping.keys(),\n",
        "))\n"
      ],
      "metadata": {
        "id": "QFJZotSEmRHW"
      },
      "execution_count": 6,
      "outputs": []
    },
    {
      "cell_type": "code",
      "source": [
        "!mkdir dataset\n",
        "!mkdir dataset/annotations\n",
        "!cp -r surface_defect_detection/NEU-DET/IMAGES /content/dataset/images"
      ],
      "metadata": {
        "id": "_X3EKbs6tm5f"
      },
      "execution_count": 7,
      "outputs": []
    },
    {
      "cell_type": "code",
      "source": [
        "def convert_to_yolov5(info):\n",
        "    buffer = []\n",
        "\n",
        "    for bbox in info['bboxes']:\n",
        "        try:\n",
        "            class_id = class_name_to_id_mapping[bbox['class']]\n",
        "        except KeyError:\n",
        "            print('Invalid class. Must be one from', class_name_to_id_mapping)\n",
        "\n",
        "        # convert to [x, y, w, h]\n",
        "        bx = (bbox['xmin'] + bbox['xmax']) / 2\n",
        "        by = (bbox['ymin'] + bbox['ymax']) / 2\n",
        "        bw = (bbox['xmax'] - bbox['xmin'])\n",
        "        bh = (bbox['ymax'] - bbox['ymin'])\n",
        "\n",
        "        # normalize bbox dimensions\n",
        "        image_w, image_h, image_c = info['image_size']\n",
        "        bx /= image_w\n",
        "        by /= image_h\n",
        "        bw /= image_w\n",
        "        bh /= image_h\n",
        "\n",
        "        buffer.append('{} {:3f} {:3f} {:3f} {:3f}'.format(class_id, bx, by, bw, bh))\n",
        "    \n",
        "    save_filename = os.path.join('dataset/annotations', info['filename'].replace('.jpg', '') + '.txt')\n",
        "    print('\\n'.join(buffer), file=open(save_filename, 'w'))"
      ],
      "metadata": {
        "id": "kZimWCEEofjx"
      },
      "execution_count": 8,
      "outputs": []
    },
    {
      "cell_type": "code",
      "source": [
        "for ann in Path('surface_defect_detection/NEU-DET/ANNOTATIONS').glob('*.xml'):\n",
        "    info = extract_info_from_xml(ann)\n",
        "    convert_to_yolov5(info)"
      ],
      "metadata": {
        "id": "d38DbZGusK6n"
      },
      "execution_count": 9,
      "outputs": []
    },
    {
      "cell_type": "code",
      "source": [
        "!cat /content/dataset/annotations/crazing_2.txt"
      ],
      "metadata": {
        "colab": {
          "base_uri": "https://localhost:8080/"
        },
        "id": "g6IRbybqvdoL",
        "outputId": "56d85710-4b30-448d-e4b4-58b35dba1a28"
      },
      "execution_count": 12,
      "outputs": [
        {
          "output_type": "stream",
          "name": "stdout",
          "text": [
            "0 0.747500 0.735000 0.505000 0.270000\n",
            "0 0.520000 0.317500 0.960000 0.475000\n"
          ]
        }
      ]
    },
    {
      "cell_type": "code",
      "source": [
        "def plot_bbox(image, annotation_list):\n",
        "    annotations = np.array(annotation_list)\n",
        "    w, h = image.size\n",
        "\n",
        "    plotted_img = ImageDraw.Draw(image)\n",
        "\n",
        "    transformed_ann = np.copy(annotations)\n",
        "    transformed_ann[:, [1, 3]] = annotations[:, [1, 3]] * w\n",
        "    transformed_ann[:, [2, 4]] = annotations[:, [2, 4]] * h\n",
        "    \n",
        "    transformed_ann[:, 1] -= transformed_ann[:, 3] / 2\n",
        "    transformed_ann[:, 2] -= transformed_ann[:, 4] / 2\n",
        "    transformed_ann[:, 3] += transformed_ann[:, 1]\n",
        "    transformed_ann[:, 4] += transformed_ann[:, 2]\n",
        "\n",
        "    for ann in transformed_ann:\n",
        "        class_id, xmin, ymin, xmax, ymax = ann\n",
        "        plotted_img.rectangle(((xmin, ymin), (xmax, ymax)))\n",
        "        plotted_img.text((xmin, ymin - 10), class_id_to_name_mapping[class_id])\n",
        "    \n",
        "    plt.imshow(np.array(image))\n",
        "    plt.show()\n",
        "\n",
        "# show an example\n",
        "annotation_file = random.choice(list(Path('dataset/annotations').glob('*.txt')))\n",
        "with open(annotation_file, 'r') as file:\n",
        "    annotation_list = file.read().split('\\n')[:-1]\n",
        "    annotation_list = [_.split() for _ in annotation_list]\n",
        "    annotation_list = [[float(_) for _ in __] for __ in annotation_list]\n",
        "\n",
        "image = Image.open(str(annotation_file).replace('annotations', 'images').replace('txt', 'jpg'))\n",
        "plot_bbox(image, annotation_list)"
      ],
      "metadata": {
        "colab": {
          "base_uri": "https://localhost:8080/",
          "height": 269
        },
        "id": "wXg4-MnIwARJ",
        "outputId": "013344fe-2fb9-4e1e-f208-3b5b19e2bdae"
      },
      "execution_count": 10,
      "outputs": [
        {
          "output_type": "display_data",
          "data": {
            "image/png": "[encoded data removed]",
            "text/plain": [
              "<Figure size 432x288 with 1 Axes>"
            ]
          },
          "metadata": {
            "needs_background": "light"
          }
        }
      ]
    },
    {
      "cell_type": "code",
      "source": [
        "annotations = [str(_) for _ in Path('dataset/annotations').glob('*.txt')]\n",
        "images = [_.replace('annotations', 'images').replace('txt', 'jpg') for _ in annotations]\n",
        "\n",
        "train_images, val_images, train_annotations, val_annotations = train_test_split(images, annotations, test_size=0.3, random_state=42)\n",
        "val_images, test_images, val_annotations, test_annotations = train_test_split(val_images, val_annotations, test_size=0.5, random_state=42)"
      ],
      "metadata": {
        "id": "co1CdMjN1npy"
      },
      "execution_count": 11,
      "outputs": []
    },
    {
      "cell_type": "code",
      "source": [
        "!mkdir dataset/images/train dataset/images/val dataset/images/test dataset/annotations/train dataset/annotations/val dataset/annotations/test"
      ],
      "metadata": {
        "id": "Q3UxF-cl4nsZ"
      },
      "execution_count": 12,
      "outputs": []
    },
    {
      "cell_type": "code",
      "source": [
        "def move_files_to_folder(file_list, destination_folder):\n",
        "    for f in file_list:\n",
        "        try:\n",
        "            shutil.move(f, destination_folder)\n",
        "        except:\n",
        "            print(f)\n",
        "            assert False\n",
        "\n",
        "move_files_to_folder(train_images, 'dataset/images/train')\n",
        "move_files_to_folder(val_images, 'dataset/images/val')\n",
        "move_files_to_folder(test_images, 'dataset/images/test')\n",
        "move_files_to_folder(train_annotations, 'dataset/annotations/train')\n",
        "move_files_to_folder(val_annotations, 'dataset/annotations/val')\n",
        "move_files_to_folder(test_annotations, 'dataset/annotations/test')"
      ],
      "metadata": {
        "id": "Yyx8_gdH4_Mx"
      },
      "execution_count": 13,
      "outputs": []
    },
    {
      "cell_type": "markdown",
      "source": [
        "https://blog.paperspace.com/train-yolov5-custom-data/"
      ],
      "metadata": {
        "id": "x9Yi2NnG1-Pb"
      }
    }
  ],
  "metadata": {
    "kernelspec": {
      "display_name": "Python 3",
      "language": "python",
      "name": "python3"
    },
    "language_info": {
      "codemirror_mode": {
        "name": "ipython",
        "version": 3
      },
      "file_extension": ".py",
      "mimetype": "text/x-python",
      "name": "python",
      "nbconvert_exporter": "python",
      "pygments_lexer": "ipython3",
      "version": "3.8.10"
    },
    "varInspector": {
      "cols": {
        "lenName": 16,
        "lenType": 16,
        "lenVar": 40
      },
      "kernels_config": {
        "python": {
          "delete_cmd_postfix": "",
          "delete_cmd_prefix": "del ",
          "library": "var_list.py",
          "varRefreshCmd": "print(var_dic_list())"
        },
        "r": {
          "delete_cmd_postfix": ") ",
          "delete_cmd_prefix": "rm(",
          "library": "var_list.r",
          "varRefreshCmd": "cat(var_dic_list()) "
        }
      },
      "types_to_exclude": [
        "module",
        "function",
        "builtin_function_or_method",
        "instance",
        "_Feature"
      ],
      "window_display": false
    },
    "colab": {
      "name": "surface_defect_detection.ipynb",
      "provenance": [],
      "include_colab_link": true
    },
    "accelerator": "GPU"
  },
  "nbformat": 4,
  "nbformat_minor": 0
}