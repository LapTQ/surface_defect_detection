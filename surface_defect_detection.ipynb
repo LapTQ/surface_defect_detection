{
  "cells": [
    {
      "cell_type": "markdown",
      "metadata": {
        "id": "view-in-github",
        "colab_type": "text"
      },
      "source": [
        "<a href=\"https://colab.research.google.com/github/LapTQ/surface_defect_detection/blob/main/surface_defect_detection.ipynb\" target=\"_parent\"><img src=\"https://colab.research.google.com/assets/colab-badge.svg\" alt=\"Open In Colab\"/></a>"
      ]
    },
    {
      "cell_type": "markdown",
      "source": [
        "Datasets:\n",
        "* Detection\n",
        " * [Steel Surface: NEU-CLS](http://faculty.neu.edu.cn/songkc/en/zdylm/263265/list/index.htm)\n",
        " * [DeepPBC](https://github.com/Charmve/Surface-Defect-Detection/tree/master/DeepPCB)\n",
        "* Segmenation\n",
        " * [Severstal: Steel Defect Detection](https://www.kaggle.com/c/severstal-steel-defect-detection/overview)\n",
        " * [AITEX FABRIC IMAGE DATABASE](https://www.aitex.es/afid/)"
      ],
      "metadata": {
        "id": "RdSoW8caiQXU"
      }
    },
    {
      "cell_type": "code",
      "source": [
        "!git clone https://github.com/LapTQ/surface_defect_detection.git"
      ],
      "metadata": {
        "colab": {
          "base_uri": "https://localhost:8080/"
        },
        "id": "4B8tjAu3Sjza",
        "outputId": "2ca799cc-9d91-4c35-c3b1-fad40080ab11"
      },
      "execution_count": 1,
      "outputs": [
        {
          "output_type": "stream",
          "name": "stdout",
          "text": [
            "Cloning into 'surface_defect_detection'...\n",
            "remote: Enumerating objects: 3637, done.\u001b[K\n",
            "remote: Counting objects: 100% (3637/3637), done.\u001b[K\n",
            "remote: Compressing objects: 100% (1923/1923), done.\u001b[K\n",
            "remote: Total 3637 (delta 1722), reused 3603 (delta 1710), pack-reused 0\u001b[K\n",
            "Receiving objects: 100% (3637/3637), 25.71 MiB | 27.31 MiB/s, done.\n",
            "Resolving deltas: 100% (1722/1722), done.\n"
          ]
        }
      ]
    },
    {
      "cell_type": "code",
      "source": [
        "# !cp /content/surface_defect_detection/NEU-DET/IMAGES /content/"
      ],
      "metadata": {
        "id": "1QsNjBGtgVKQ"
      },
      "execution_count": null,
      "outputs": []
    },
    {
      "cell_type": "code",
      "execution_count": 2,
      "metadata": {
        "id": "7otFLiDrhp0i",
        "colab": {
          "base_uri": "https://localhost:8080/"
        },
        "outputId": "684bf0f6-41f3-449d-d333-7898ddd2ee53"
      },
      "outputs": [
        {
          "output_type": "stream",
          "name": "stdout",
          "text": [
            "Cloning into 'yolov5'...\n",
            "remote: Enumerating objects: 11212, done.\u001b[K\n",
            "remote: Total 11212 (delta 0), reused 0 (delta 0), pack-reused 11212\u001b[K\n",
            "Receiving objects: 100% (11212/11212), 11.11 MiB | 17.67 MiB/s, done.\n",
            "Resolving deltas: 100% (7759/7759), done.\n"
          ]
        }
      ],
      "source": [
        "!git clone https://github.com/ultralytics/yolov5\n",
        "# !pip install -r yolov5/requirements.txt\n",
        "\n",
        "# %cd /content/yolov5"
      ]
    },
    {
      "cell_type": "code",
      "source": [
        "import torch\n",
        "from IPython.display import Image # for displaying images\n",
        "import os\n",
        "import random\n",
        "import shutil\n",
        "from sklearn.model_selection import train_test_split\n",
        "import xml.etree.ElementTree as ET\n",
        "from xml.dom import minidom\n",
        "# from tqdm import tqdm\n",
        "from PIL import Image, ImageDraw\n",
        "import numpy as np\n",
        "import matplotlib.pyplot as plt\n",
        "\n",
        "# from utils.google_utils import gdrive_download # for downloading models/datasets\n",
        "\n",
        "print('torch %s %s' % (torch.__version__, torch.cuda.get_device_properties(0) if torch.cuda.is_available() else 'CPU'))"
      ],
      "metadata": {
        "colab": {
          "base_uri": "https://localhost:8080/"
        },
        "id": "prvsEk75MIkv",
        "outputId": "c10d97b9-d4cd-40bd-f7ed-54871531d845"
      },
      "execution_count": 3,
      "outputs": [
        {
          "output_type": "stream",
          "name": "stdout",
          "text": [
            "torch 1.10.0+cu111 _CudaDeviceProperties(name='Tesla T4', major=7, minor=5, total_memory=15109MB, multi_processor_count=40)\n"
          ]
        }
      ]
    },
    {
      "cell_type": "code",
      "source": [
        "!cat surface_defect_detection/NEU-DET/ANNOTATIONS/crazing_2.xml"
      ],
      "metadata": {
        "colab": {
          "base_uri": "https://localhost:8080/"
        },
        "id": "6kGYxc5dSbD0",
        "outputId": "7265057e-b21e-41b0-cea1-456aef734073"
      },
      "execution_count": 4,
      "outputs": [
        {
          "output_type": "stream",
          "name": "stdout",
          "text": [
            "<annotation>\n",
            "\t<folder>cr</folder>\n",
            "\t<filename>crazing_2.jpg</filename>\n",
            "\t<source>\n",
            "\t\t<database>NEU-DET</database>\n",
            "\t</source>\n",
            "\t<size>\n",
            "\t\t<width>200</width>\n",
            "\t\t<height>200</height>\n",
            "\t\t<depth>1</depth>\n",
            "\t</size>\n",
            "\t<segmented>0</segmented>\n",
            "\t<object>\n",
            "\t\t<name>crazing</name>\n",
            "\t\t<pose>Unspecified</pose>\n",
            "\t\t<truncated>1</truncated>\n",
            "\t\t<difficult>0</difficult>\n",
            "\t\t<bndbox>\n",
            "\t\t\t<xmin>99</xmin>\n",
            "\t\t\t<ymin>120</ymin>\n",
            "\t\t\t<xmax>200</xmax>\n",
            "\t\t\t<ymax>174</ymax>\n",
            "\t\t</bndbox>\n",
            "\t</object>\n",
            "\t<object>\n",
            "\t\t<name>crazing</name>\n",
            "\t\t<pose>Unspecified</pose>\n",
            "\t\t<truncated>1</truncated>\n",
            "\t\t<difficult>0</difficult>\n",
            "\t\t<bndbox>\n",
            "\t\t\t<xmin>8</xmin>\n",
            "\t\t\t<ymin>16</ymin>\n",
            "\t\t\t<xmax>200</xmax>\n",
            "\t\t\t<ymax>111</ymax>\n",
            "\t\t</bndbox>\n",
            "\t</object>\n",
            "</annotation>\n"
          ]
        }
      ]
    },
    {
      "cell_type": "code",
      "source": [
        "def extract_info_from_xml(xml_file):\n",
        "    xml_root = ET.parse(xml_file).getroot()\n",
        "\n",
        "    info = {}\n",
        "    info['bboxes'] = []\n",
        "    info['image_size'] = []\n",
        "\n",
        "    for element in xml_root:\n",
        "        # get image file name\n",
        "        if element.tag == 'filename':\n",
        "            info['filename'] = element.text\n",
        "\n",
        "        # get image size\n",
        "        if element.tag == 'size':\n",
        "            for sub_element in element:\n",
        "                info['image_size'].append(int(sub_element.text))\n",
        "        \n",
        "        # get bounding boxes\n",
        "        if element.tag == 'object':\n",
        "            bbox = {}\n",
        "            for sub_element in element:\n",
        "                if sub_element.tag == 'name':\n",
        "                    bbox['class'] = sub_element.text\n",
        "                elif sub_element.tag == 'bndbox':\n",
        "                    for sub_sub_element in sub_element:\n",
        "                        bbox[sub_sub_element.tag] = int(sub_sub_element.text)\n",
        "            info['bboxes'].append(bbox)\n",
        "    return info"
      ],
      "metadata": {
        "id": "GfcDjzEJhega"
      },
      "execution_count": 5,
      "outputs": []
    },
    {
      "cell_type": "code",
      "source": [
        "extract_info_from_xml('surface_defect_detection/NEU-DET/ANNOTATIONS/crazing_2.xml')"
      ],
      "metadata": {
        "colab": {
          "base_uri": "https://localhost:8080/"
        },
        "id": "SuROWxMZhuB4",
        "outputId": "2ea01c7a-84f2-4f76-8bdd-fb7acd93c858"
      },
      "execution_count": 6,
      "outputs": [
        {
          "output_type": "execute_result",
          "data": {
            "text/plain": [
              "{'bboxes': [{'class': 'crazing',\n",
              "   'xmax': 200,\n",
              "   'xmin': 99,\n",
              "   'ymax': 174,\n",
              "   'ymin': 120},\n",
              "  {'class': 'crazing', 'xmax': 200, 'xmin': 8, 'ymax': 111, 'ymin': 16}],\n",
              " 'filename': 'crazing_2.jpg',\n",
              " 'image_size': [200, 200, 1]}"
            ]
          },
          "metadata": {},
          "execution_count": 6
        }
      ]
    },
    {
      "cell_type": "code",
      "source": [
        "from pathlib import Path"
      ],
      "metadata": {
        "id": "lAxdkwZMmw2n"
      },
      "execution_count": 7,
      "outputs": []
    },
    {
      "cell_type": "code",
      "source": [
        "def get_class_name(annotations_dir):\n",
        "    class_name = set()\n",
        "    annotations_dir = Path(annotations_dir)\n",
        "    for xml_path in annotations_dir.glob('*.xml'):\n",
        "        info = extract_info_from_xml(xml_path)\n",
        "        for bbox in info['bboxes']:\n",
        "            class_name.add(bbox['class'])\n",
        "    return class_name\n",
        "    \n",
        "class_name = get_class_name('surface_defect_detection/NEU-DET/ANNOTATIONS')\n",
        "\n",
        "# TODO\n",
        "class_name_to_id_mapping = {\n",
        "    'crazing': 0,\n",
        "    'inclusion': 1,\n",
        "    'patches': 2,\n",
        "    'pitted_surface': 3,\n",
        "    'rolled-in_scale': 4,\n",
        "    'scratches': 5\n",
        "}\n",
        "\n",
        "class_id_to_name_mapping = dict(zip(\n",
        "    class_name_to_id_mapping.values(),\n",
        "    class_name_to_id_mapping.keys(),\n",
        "))\n"
      ],
      "metadata": {
        "id": "QFJZotSEmRHW"
      },
      "execution_count": 8,
      "outputs": []
    },
    {
      "cell_type": "code",
      "source": [
        "!mkdir dataset\n",
        "!mkdir dataset/labels\n",
        "!cp -r surface_defect_detection/NEU-DET/IMAGES /content/dataset/images"
      ],
      "metadata": {
        "id": "_X3EKbs6tm5f"
      },
      "execution_count": 9,
      "outputs": []
    },
    {
      "cell_type": "code",
      "source": [
        "def convert_to_yolov5(info):\n",
        "    buffer = []\n",
        "\n",
        "    for bbox in info['bboxes']:\n",
        "        try:\n",
        "            class_id = class_name_to_id_mapping[bbox['class']]\n",
        "        except KeyError:\n",
        "            print('Invalid class. Must be one from', class_name_to_id_mapping)\n",
        "\n",
        "        # convert to [x, y, w, h]\n",
        "        bx = (bbox['xmin'] + bbox['xmax']) / 2\n",
        "        by = (bbox['ymin'] + bbox['ymax']) / 2\n",
        "        bw = (bbox['xmax'] - bbox['xmin'])\n",
        "        bh = (bbox['ymax'] - bbox['ymin'])\n",
        "\n",
        "        # normalize bbox dimensions\n",
        "        image_w, image_h, image_c = info['image_size']\n",
        "        bx /= image_w\n",
        "        by /= image_h\n",
        "        bw /= image_w\n",
        "        bh /= image_h\n",
        "\n",
        "        buffer.append('{} {:3f} {:3f} {:3f} {:3f}'.format(class_id, bx, by, bw, bh))\n",
        "    \n",
        "    save_filename = os.path.join('dataset/labels', info['filename'].replace('.jpg', '') + '.txt')\n",
        "    print('\\n'.join(buffer), file=open(save_filename, 'w'))"
      ],
      "metadata": {
        "id": "kZimWCEEofjx"
      },
      "execution_count": 10,
      "outputs": []
    },
    {
      "cell_type": "code",
      "source": [
        "for ann in Path('surface_defect_detection/NEU-DET/ANNOTATIONS').glob('*.xml'):\n",
        "    info = extract_info_from_xml(ann)\n",
        "    convert_to_yolov5(info)"
      ],
      "metadata": {
        "id": "d38DbZGusK6n"
      },
      "execution_count": 11,
      "outputs": []
    },
    {
      "cell_type": "code",
      "source": [
        "!cat /content/dataset/labels/crazing_2.txt"
      ],
      "metadata": {
        "colab": {
          "base_uri": "https://localhost:8080/"
        },
        "id": "g6IRbybqvdoL",
        "outputId": "3091d22d-4409-4740-a35a-ebee5b91174f"
      },
      "execution_count": 12,
      "outputs": [
        {
          "output_type": "stream",
          "name": "stdout",
          "text": [
            "0 0.747500 0.735000 0.505000 0.270000\n",
            "0 0.520000 0.317500 0.960000 0.475000\n"
          ]
        }
      ]
    },
    {
      "cell_type": "code",
      "source": [
        "def plot_bbox(image, annotation_list):\n",
        "    annotations = np.array(annotation_list)\n",
        "    w, h = image.size\n",
        "\n",
        "    plotted_img = ImageDraw.Draw(image)\n",
        "\n",
        "    transformed_ann = np.copy(annotations)\n",
        "    transformed_ann[:, [1, 3]] = annotations[:, [1, 3]] * w\n",
        "    transformed_ann[:, [2, 4]] = annotations[:, [2, 4]] * h\n",
        "    \n",
        "    transformed_ann[:, 1] -= transformed_ann[:, 3] / 2\n",
        "    transformed_ann[:, 2] -= transformed_ann[:, 4] / 2\n",
        "    transformed_ann[:, 3] += transformed_ann[:, 1]\n",
        "    transformed_ann[:, 4] += transformed_ann[:, 2]\n",
        "\n",
        "    for ann in transformed_ann:\n",
        "        class_id, xmin, ymin, xmax, ymax = ann\n",
        "        plotted_img.rectangle(((xmin, ymin), (xmax, ymax)))\n",
        "        plotted_img.text((xmin, ymin - 10), class_id_to_name_mapping[class_id])\n",
        "    \n",
        "    plt.imshow(np.array(image))\n",
        "    plt.show()\n",
        "\n",
        "# show an example\n",
        "annotation_file = random.choice(list(Path('dataset/labels').glob('*.txt')))\n",
        "with open(annotation_file, 'r') as file:\n",
        "    annotation_list = file.read().split('\\n')[:-1]\n",
        "    annotation_list = [_.split() for _ in annotation_list]\n",
        "    annotation_list = [[float(_) for _ in __] for __ in annotation_list]\n",
        "\n",
        "image = Image.open(str(annotation_file).replace('labels', 'images').replace('txt', 'jpg'))\n",
        "plot_bbox(image, annotation_list)"
      ],
      "metadata": {
        "colab": {
          "base_uri": "https://localhost:8080/",
          "height": 269
        },
        "id": "wXg4-MnIwARJ",
        "outputId": "37a86da6-d334-4e0f-9179-9c75bdea36ac"
      },
      "execution_count": 13,
      "outputs": [
        {
          "output_type": "display_data",
          "data": {
            "image/png": "[encoded data removed]",
            "text/plain": [
              "<Figure size 432x288 with 1 Axes>"
            ]
          },
          "metadata": {
            "needs_background": "light"
          }
        }
      ]
    },
    {
      "cell_type": "code",
      "source": [
        "annotations = [str(_) for _ in Path('dataset/labels').glob('*.txt')]\n",
        "images = [_.replace('labels', 'images').replace('txt', 'jpg') for _ in annotations]\n",
        "\n",
        "train_images, val_images, train_annotations, val_annotations = train_test_split(images, annotations, test_size=0.3, random_state=42)\n",
        "val_images, test_images, val_annotations, test_annotations = train_test_split(val_images, val_annotations, test_size=0.5, random_state=42)"
      ],
      "metadata": {
        "id": "co1CdMjN1npy"
      },
      "execution_count": 14,
      "outputs": []
    },
    {
      "cell_type": "code",
      "source": [
        "!mkdir dataset/images/train dataset/images/val dataset/images/test dataset/labels/train dataset/labels/val dataset/labels/test"
      ],
      "metadata": {
        "id": "Q3UxF-cl4nsZ"
      },
      "execution_count": 15,
      "outputs": []
    },
    {
      "cell_type": "code",
      "source": [
        "def move_files_to_folder(file_list, destination_folder):\n",
        "    for f in file_list:\n",
        "        try:\n",
        "            shutil.move(f, destination_folder)\n",
        "        except:\n",
        "            print(f)\n",
        "            assert False\n",
        "\n",
        "move_files_to_folder(train_images, 'dataset/images/train')\n",
        "move_files_to_folder(val_images, 'dataset/images/val')\n",
        "move_files_to_folder(test_images, 'dataset/images/test')\n",
        "move_files_to_folder(train_annotations, 'dataset/labels/train')\n",
        "move_files_to_folder(val_annotations, 'dataset/labels/val')\n",
        "move_files_to_folder(test_annotations, 'dataset/labels/test')"
      ],
      "metadata": {
        "id": "Yyx8_gdH4_Mx"
      },
      "execution_count": 16,
      "outputs": []
    },
    {
      "cell_type": "code",
      "source": [
        "with open('yolov5/data/surface_defect_data.yaml', 'w') as f:\n",
        "    f.write(f\"\\\n",
        "train: ../dataset/images/train/\\n\\\n",
        "val: ../dataset/images/val/\\n\\\n",
        "test: ../dataset/images/train/\\n\\\n",
        "\\n\\\n",
        "# number of classes\\n\\\n",
        "nc: 6\\n\\\n",
        "\\n\\\n",
        "# class names \\n\\\n",
        "names: ['crazing', 'inclusion', 'patches', 'pitted_surface', 'rolled-in_scale', 'scratches']\\\n",
        "\")"
      ],
      "metadata": {
        "id": "ZD8tGL4v_eEk"
      },
      "execution_count": 22,
      "outputs": []
    },
    {
      "cell_type": "code",
      "source": [
        "# %cd yolov5\n",
        "!python train.py --img 640 --cfg yolov5s.yaml --batch 16 --epochs 24 --data surface_defect_data.yaml --weights yolov5s.pt --workers 24 --name yolo_surface_defect --cache\n",
        "# %cd .."
      ],
      "metadata": {
        "id": "XUFfmFciAVHC",
        "outputId": "da8697fd-494b-4c71-dd19-3ad1d9cd6946",
        "colab": {
          "base_uri": "https://localhost:8080/"
        }
      },
      "execution_count": 33,
      "outputs": [
        {
          "output_type": "stream",
          "name": "stdout",
          "text": [
            "\u001b[34m\u001b[1mtrain: \u001b[0mweights=yolov5s.pt, cfg=yolov5s.yaml, data=surface_defect_data.yaml, hyp=data/hyps/hyp.scratch-low.yaml, epochs=24, batch_size=16, imgsz=640, rect=False, resume=False, nosave=False, noval=False, noautoanchor=False, evolve=None, bucket=, cache=ram, image_weights=False, device=, multi_scale=False, single_cls=False, optimizer=SGD, sync_bn=False, workers=24, project=runs/train, name=yolo_surface_defect, exist_ok=False, quad=False, cos_lr=False, label_smoothing=0.0, patience=100, freeze=[0], save_period=-1, local_rank=-1, entity=None, upload_dataset=False, bbox_interval=-1, artifact_alias=latest\n",
            "\u001b[34m\u001b[1mgithub: \u001b[0mup to date with https://github.com/ultralytics/yolov5 ✅\n",
            "YOLOv5 🚀 v6.1-21-ge6e36aa torch 1.10.0+cu111 CUDA:0 (Tesla T4, 15110MiB)\n",
            "\n",
            "\u001b[34m\u001b[1mhyperparameters: \u001b[0mlr0=0.01, lrf=0.01, momentum=0.937, weight_decay=0.0005, warmup_epochs=3.0, warmup_momentum=0.8, warmup_bias_lr=0.1, box=0.05, cls=0.5, cls_pw=1.0, obj=1.0, obj_pw=1.0, iou_t=0.2, anchor_t=4.0, fl_gamma=0.0, hsv_h=0.015, hsv_s=0.7, hsv_v=0.4, degrees=0.0, translate=0.1, scale=0.5, shear=0.0, perspective=0.0, flipud=0.0, fliplr=0.5, mosaic=1.0, mixup=0.0, copy_paste=0.0\n",
            "\u001b[34m\u001b[1mWeights & Biases: \u001b[0mrun 'pip install wandb' to automatically track and visualize YOLOv5 🚀 runs (RECOMMENDED)\n",
            "\u001b[34m\u001b[1mTensorBoard: \u001b[0mStart with 'tensorboard --logdir runs/train', view at http://localhost:6006/\n",
            "Overriding model.yaml nc=80 with nc=6\n",
            "\n",
            "                 from  n    params  module                                  arguments                     \n",
            "  0                -1  1      3520  models.common.Conv                      [3, 32, 6, 2, 2]              \n",
            "  1                -1  1     18560  models.common.Conv                      [32, 64, 3, 2]                \n",
            "  2                -1  1     18816  models.common.C3                        [64, 64, 1]                   \n",
            "  3                -1  1     73984  models.common.Conv                      [64, 128, 3, 2]               \n",
            "  4                -1  2    115712  models.common.C3                        [128, 128, 2]                 \n",
            "  5                -1  1    295424  models.common.Conv                      [128, 256, 3, 2]              \n",
            "  6                -1  3    625152  models.common.C3                        [256, 256, 3]                 \n",
            "  7                -1  1   1180672  models.common.Conv                      [256, 512, 3, 2]              \n",
            "  8                -1  1   1182720  models.common.C3                        [512, 512, 1]                 \n",
            "  9                -1  1    656896  models.common.SPPF                      [512, 512, 5]                 \n",
            " 10                -1  1    131584  models.common.Conv                      [512, 256, 1, 1]              \n",
            " 11                -1  1         0  torch.nn.modules.upsampling.Upsample    [None, 2, 'nearest']          \n",
            " 12           [-1, 6]  1         0  models.common.Concat                    [1]                           \n",
            " 13                -1  1    361984  models.common.C3                        [512, 256, 1, False]          \n",
            " 14                -1  1     33024  models.common.Conv                      [256, 128, 1, 1]              \n",
            " 15                -1  1         0  torch.nn.modules.upsampling.Upsample    [None, 2, 'nearest']          \n",
            " 16           [-1, 4]  1         0  models.common.Concat                    [1]                           \n",
            " 17                -1  1     90880  models.common.C3                        [256, 128, 1, False]          \n",
            " 18                -1  1    147712  models.common.Conv                      [128, 128, 3, 2]              \n",
            " 19          [-1, 14]  1         0  models.common.Concat                    [1]                           \n",
            " 20                -1  1    296448  models.common.C3                        [256, 256, 1, False]          \n",
            " 21                -1  1    590336  models.common.Conv                      [256, 256, 3, 2]              \n",
            " 22          [-1, 10]  1         0  models.common.Concat                    [1]                           \n",
            " 23                -1  1   1182720  models.common.C3                        [512, 512, 1, False]          \n",
            " 24      [17, 20, 23]  1     29667  models.yolo.Detect                      [6, [[10, 13, 16, 30, 33, 23], [30, 61, 62, 45, 59, 119], [116, 90, 156, 198, 373, 326]], [128, 256, 512]]\n",
            "Model Summary: 270 layers, 7035811 parameters, 7035811 gradients\n",
            "\n",
            "Transferred 342/349 items from yolov5s.pt\n",
            "Scaled weight_decay = 0.0005\n",
            "\u001b[34m\u001b[1moptimizer:\u001b[0m SGD with parameter groups 57 weight (no decay), 60 weight, 60 bias\n",
            "\u001b[34m\u001b[1malbumentations: \u001b[0mversion 1.0.3 required by YOLOv5, but version 0.1.12 is currently installed\n",
            "\u001b[34m\u001b[1mtrain: \u001b[0mScanning '/content/yolov5/../dataset/labels/train.cache' images and labels... 1260 found, 0 missing, 0 empty, 0 corrupt: 100% 1260/1260 [00:00<?, ?it/s]\n",
            "\u001b[34m\u001b[1mtrain: \u001b[0mWARNING: /content/yolov5/../dataset/images/train/crazing_120.jpg: 1 duplicate labels removed\n",
            "\u001b[34m\u001b[1mtrain: \u001b[0mWARNING: /content/yolov5/../dataset/images/train/inclusion_62.jpg: 1 duplicate labels removed\n",
            "\u001b[34m\u001b[1mtrain: \u001b[0mWARNING: /content/yolov5/../dataset/images/train/patches_198.jpg: 1 duplicate labels removed\n",
            "\u001b[34m\u001b[1mtrain: \u001b[0mCaching images (1.5GB ram): 100% 1260/1260 [00:03<00:00, 417.30it/s]\n",
            "\u001b[34m\u001b[1mval: \u001b[0mScanning '/content/yolov5/../dataset/labels/val.cache' images and labels... 270 found, 0 missing, 0 empty, 0 corrupt: 100% 270/270 [00:00<?, ?it/s]\n",
            "\u001b[34m\u001b[1mval: \u001b[0mCaching images (0.3GB ram): 100% 270/270 [00:01<00:00, 242.05it/s]\n",
            "Plotting labels to runs/train/yolo_surface_defect2/labels.jpg... \n",
            "\n",
            "\u001b[34m\u001b[1mAutoAnchor: \u001b[0m3.24 anchors/target, 0.988 Best Possible Recall (BPR). Current anchors are a good fit to dataset ✅\n",
            "Image sizes 640 train, 640 val\n",
            "Using 2 dataloader workers\n",
            "Logging results to \u001b[1mruns/train/yolo_surface_defect2\u001b[0m\n",
            "Starting training for 24 epochs...\n",
            "\n",
            "     Epoch   gpu_mem       box       obj       cls    labels  img_size\n",
            "      0/23     3.62G   0.08966    0.0393      0.05        47       640: 100% 79/79 [00:21<00:00,  3.68it/s]\n",
            "               Class     Images     Labels          P          R     mAP@.5 mAP@.5:.95: 100% 9/9 [00:02<00:00,  3.58it/s]\n",
            "                 all        270        597      0.701     0.0561     0.0266    0.00647\n",
            "\n",
            "     Epoch   gpu_mem       box       obj       cls    labels  img_size\n",
            "      1/23      4.2G   0.06311    0.0413   0.03205        57       640: 100% 79/79 [00:18<00:00,  4.28it/s]\n",
            "               Class     Images     Labels          P          R     mAP@.5 mAP@.5:.95: 100% 9/9 [00:03<00:00,  2.95it/s]\n",
            "                 all        270        597      0.138       0.31      0.134     0.0405\n",
            "\n",
            "     Epoch   gpu_mem       box       obj       cls    labels  img_size\n",
            "      2/23      4.2G   0.06233   0.03498   0.01685        46       640: 100% 79/79 [00:18<00:00,  4.30it/s]\n",
            "               Class     Images     Labels          P          R     mAP@.5 mAP@.5:.95: 100% 9/9 [00:02<00:00,  4.21it/s]\n",
            "                 all        270        597      0.424      0.188      0.073     0.0192\n",
            "\n",
            "     Epoch   gpu_mem       box       obj       cls    labels  img_size\n",
            "      3/23      4.2G   0.05935   0.03375   0.01053        53       640: 100% 79/79 [00:18<00:00,  4.33it/s]\n",
            "               Class     Images     Labels          P          R     mAP@.5 mAP@.5:.95: 100% 9/9 [00:02<00:00,  3.62it/s]\n",
            "                 all        270        597      0.574      0.304      0.299      0.117\n",
            "\n",
            "     Epoch   gpu_mem       box       obj       cls    labels  img_size\n",
            "      4/23      4.2G   0.05356     0.035  0.008067        62       640: 100% 79/79 [00:18<00:00,  4.29it/s]\n",
            "               Class     Images     Labels          P          R     mAP@.5 mAP@.5:.95: 100% 9/9 [00:02<00:00,  4.23it/s]\n",
            "                 all        270        597      0.293      0.537      0.401      0.153\n",
            "\n",
            "     Epoch   gpu_mem       box       obj       cls    labels  img_size\n",
            "      5/23      4.2G   0.04917   0.03439  0.007557        44       640: 100% 79/79 [00:18<00:00,  4.29it/s]\n",
            "               Class     Images     Labels          P          R     mAP@.5 mAP@.5:.95: 100% 9/9 [00:01<00:00,  4.56it/s]\n",
            "                 all        270        597      0.625      0.467      0.458      0.188\n",
            "\n",
            "     Epoch   gpu_mem       box       obj       cls    labels  img_size\n",
            "      6/23      4.2G   0.04796   0.03378  0.006453        54       640: 100% 79/79 [00:18<00:00,  4.30it/s]\n",
            "               Class     Images     Labels          P          R     mAP@.5 mAP@.5:.95: 100% 9/9 [00:01<00:00,  4.51it/s]\n",
            "                 all        270        597      0.502      0.486      0.502      0.194\n",
            "\n",
            "     Epoch   gpu_mem       box       obj       cls    labels  img_size\n",
            "      7/23      4.2G   0.04472   0.03495  0.005462        65       640: 100% 79/79 [00:18<00:00,  4.28it/s]\n",
            "               Class     Images     Labels          P          R     mAP@.5 mAP@.5:.95: 100% 9/9 [00:02<00:00,  4.42it/s]\n",
            "                 all        270        597      0.493      0.303       0.28      0.126\n",
            "\n",
            "     Epoch   gpu_mem       box       obj       cls    labels  img_size\n",
            "      8/23      4.2G   0.04285   0.03366  0.004236        52       640: 100% 79/79 [00:18<00:00,  4.34it/s]\n",
            "               Class     Images     Labels          P          R     mAP@.5 mAP@.5:.95: 100% 9/9 [00:02<00:00,  4.35it/s]\n",
            "                 all        270        597      0.645       0.52      0.631      0.299\n",
            "\n",
            "     Epoch   gpu_mem       box       obj       cls    labels  img_size\n",
            "      9/23      4.2G    0.0439   0.03354  0.003869        67       640: 100% 79/79 [00:18<00:00,  4.27it/s]\n",
            "               Class     Images     Labels          P          R     mAP@.5 mAP@.5:.95: 100% 9/9 [00:02<00:00,  4.50it/s]\n",
            "                 all        270        597      0.504      0.511      0.513      0.226\n",
            "\n",
            "     Epoch   gpu_mem       box       obj       cls    labels  img_size\n",
            "     10/23      4.2G   0.04096   0.03283  0.003689        58       640: 100% 79/79 [00:18<00:00,  4.28it/s]\n",
            "               Class     Images     Labels          P          R     mAP@.5 mAP@.5:.95: 100% 9/9 [00:02<00:00,  3.73it/s]\n",
            "                 all        270        597      0.542      0.689      0.673      0.303\n",
            "\n",
            "     Epoch   gpu_mem       box       obj       cls    labels  img_size\n",
            "     11/23      4.2G   0.04097   0.03159  0.004058        43       640: 100% 79/79 [00:19<00:00,  3.97it/s]\n",
            "               Class     Images     Labels          P          R     mAP@.5 mAP@.5:.95: 100% 9/9 [00:02<00:00,  4.20it/s]\n",
            "                 all        270        597      0.584      0.634      0.635      0.289\n",
            "\n",
            "     Epoch   gpu_mem       box       obj       cls    labels  img_size\n",
            "     12/23      4.2G   0.04031   0.03235  0.002914        41       640: 100% 79/79 [00:18<00:00,  4.19it/s]\n",
            "               Class     Images     Labels          P          R     mAP@.5 mAP@.5:.95: 100% 9/9 [00:02<00:00,  4.50it/s]\n",
            "                 all        270        597      0.656      0.637      0.691      0.322\n",
            "\n",
            "     Epoch   gpu_mem       box       obj       cls    labels  img_size\n",
            "     13/23      4.2G   0.03982   0.03233  0.003085        57       640: 100% 79/79 [00:19<00:00,  4.09it/s]\n",
            "               Class     Images     Labels          P          R     mAP@.5 mAP@.5:.95: 100% 9/9 [00:02<00:00,  4.43it/s]\n",
            "                 all        270        597      0.607      0.696      0.713      0.339\n",
            "\n",
            "     Epoch   gpu_mem       box       obj       cls    labels  img_size\n",
            "     14/23      4.2G    0.0388   0.03236  0.003428        61       640: 100% 79/79 [00:18<00:00,  4.27it/s]\n",
            "               Class     Images     Labels          P          R     mAP@.5 mAP@.5:.95: 100% 9/9 [00:02<00:00,  4.47it/s]\n",
            "                 all        270        597      0.622      0.637      0.684       0.35\n",
            "\n",
            "     Epoch   gpu_mem       box       obj       cls    labels  img_size\n",
            "     15/23      4.2G   0.03734   0.03209  0.003284        44       640: 100% 79/79 [00:18<00:00,  4.26it/s]\n",
            "               Class     Images     Labels          P          R     mAP@.5 mAP@.5:.95: 100% 9/9 [00:02<00:00,  4.46it/s]\n",
            "                 all        270        597      0.632      0.644      0.665      0.326\n",
            "\n",
            "     Epoch   gpu_mem       box       obj       cls    labels  img_size\n",
            "     16/23      4.2G   0.03719   0.03178  0.003576        43       640: 100% 79/79 [00:18<00:00,  4.26it/s]\n",
            "               Class     Images     Labels          P          R     mAP@.5 mAP@.5:.95: 100% 9/9 [00:01<00:00,  4.54it/s]\n",
            "                 all        270        597      0.641      0.673      0.681      0.347\n",
            "\n",
            "     Epoch   gpu_mem       box       obj       cls    labels  img_size\n",
            "     17/23      4.2G   0.03639   0.03162   0.00286        38       640: 100% 79/79 [00:18<00:00,  4.27it/s]\n",
            "               Class     Images     Labels          P          R     mAP@.5 mAP@.5:.95: 100% 9/9 [00:01<00:00,  4.51it/s]\n",
            "                 all        270        597      0.603      0.674      0.682      0.334\n",
            "\n",
            "     Epoch   gpu_mem       box       obj       cls    labels  img_size\n",
            "     18/23      4.2G     0.036   0.03245  0.002699        62       640: 100% 79/79 [00:18<00:00,  4.21it/s]\n",
            "               Class     Images     Labels          P          R     mAP@.5 mAP@.5:.95: 100% 9/9 [00:02<00:00,  4.44it/s]\n",
            "                 all        270        597      0.654        0.7      0.729      0.371\n",
            "\n",
            "     Epoch   gpu_mem       box       obj       cls    labels  img_size\n",
            "     19/23      4.2G   0.03549   0.03142  0.002345        67       640: 100% 79/79 [00:18<00:00,  4.24it/s]\n",
            "               Class     Images     Labels          P          R     mAP@.5 mAP@.5:.95: 100% 9/9 [00:01<00:00,  4.54it/s]\n",
            "                 all        270        597      0.643      0.711      0.725      0.376\n",
            "\n",
            "     Epoch   gpu_mem       box       obj       cls    labels  img_size\n",
            "     20/23      4.2G   0.03471   0.03037  0.002141        47       640: 100% 79/79 [00:18<00:00,  4.25it/s]\n",
            "               Class     Images     Labels          P          R     mAP@.5 mAP@.5:.95: 100% 9/9 [00:02<00:00,  4.44it/s]\n",
            "                 all        270        597      0.646      0.674       0.72       0.36\n",
            "\n",
            "     Epoch   gpu_mem       box       obj       cls    labels  img_size\n",
            "     21/23      4.2G   0.03435   0.03187  0.002207        54       640: 100% 79/79 [00:18<00:00,  4.25it/s]\n",
            "               Class     Images     Labels          P          R     mAP@.5 mAP@.5:.95: 100% 9/9 [00:02<00:00,  4.12it/s]\n",
            "                 all        270        597      0.611      0.724      0.727      0.385\n",
            "\n",
            "     Epoch   gpu_mem       box       obj       cls    labels  img_size\n",
            "     22/23      4.2G   0.03402   0.03126  0.002119        52       640: 100% 79/79 [00:18<00:00,  4.28it/s]\n",
            "               Class     Images     Labels          P          R     mAP@.5 mAP@.5:.95: 100% 9/9 [00:02<00:00,  4.48it/s]\n",
            "                 all        270        597      0.659      0.718      0.738      0.399\n",
            "\n",
            "     Epoch   gpu_mem       box       obj       cls    labels  img_size\n",
            "     23/23      4.2G   0.03364   0.03127   0.00164        64       640: 100% 79/79 [00:18<00:00,  4.26it/s]\n",
            "               Class     Images     Labels          P          R     mAP@.5 mAP@.5:.95: 100% 9/9 [00:01<00:00,  4.52it/s]\n",
            "                 all        270        597      0.641      0.734      0.738      0.396\n",
            "\n",
            "24 epochs completed in 0.143 hours.\n",
            "Optimizer stripped from runs/train/yolo_surface_defect2/weights/last.pt, 14.5MB\n",
            "Optimizer stripped from runs/train/yolo_surface_defect2/weights/best.pt, 14.5MB\n",
            "\n",
            "Validating runs/train/yolo_surface_defect2/weights/best.pt...\n",
            "Fusing layers... \n",
            "Model Summary: 213 layers, 7026307 parameters, 0 gradients\n",
            "               Class     Images     Labels          P          R     mAP@.5 mAP@.5:.95: 100% 9/9 [00:04<00:00,  2.13it/s]\n",
            "                 all        270        597      0.659      0.718      0.738      0.399\n",
            "             crazing        270        140      0.565      0.315      0.388      0.108\n",
            "           inclusion        270        145      0.635      0.889      0.875      0.481\n",
            "             patches        270         98      0.691      0.918      0.929      0.598\n",
            "      pitted_surface        270         65      0.791      0.738      0.792      0.514\n",
            "     rolled-in_scale        270         74      0.567      0.649      0.585      0.238\n",
            "           scratches        270         75      0.703        0.8      0.856      0.457\n",
            "Results saved to \u001b[1mruns/train/yolo_surface_defect2\u001b[0m\n"
          ]
        }
      ]
    },
    {
      "cell_type": "code",
      "source": [
        "!python train.py --img 640 --cfg yolov5s.yaml --batch 16 --epochs 24 --data surface_defect_data.yaml --weights runs/train/yolo_surface_defect/weights/best.pt --workers 24 --name yolo_surface_defect --cache\n"
      ],
      "metadata": {
        "id": "wpVBIe0zEuXd",
        "outputId": "beeb4599-335b-409f-cd50-7faa54501940",
        "colab": {
          "base_uri": "https://localhost:8080/"
        }
      },
      "execution_count": 31,
      "outputs": [
        {
          "output_type": "stream",
          "name": "stdout",
          "text": [
            "/content/yolov5\n"
          ]
        }
      ]
    },
    {
      "cell_type": "markdown",
      "source": [
        "https://blog.paperspace.com/train-yolov5-custom-data/"
      ],
      "metadata": {
        "id": "x9Yi2NnG1-Pb"
      }
    }
  ],
  "metadata": {
    "kernelspec": {
      "display_name": "Python 3",
      "language": "python",
      "name": "python3"
    },
    "language_info": {
      "codemirror_mode": {
        "name": "ipython",
        "version": 3
      },
      "file_extension": ".py",
      "mimetype": "text/x-python",
      "name": "python",
      "nbconvert_exporter": "python",
      "pygments_lexer": "ipython3",
      "version": "3.8.10"
    },
    "varInspector": {
      "cols": {
        "lenName": 16,
        "lenType": 16,
        "lenVar": 40
      },
      "kernels_config": {
        "python": {
          "delete_cmd_postfix": "",
          "delete_cmd_prefix": "del ",
          "library": "var_list.py",
          "varRefreshCmd": "print(var_dic_list())"
        },
        "r": {
          "delete_cmd_postfix": ") ",
          "delete_cmd_prefix": "rm(",
          "library": "var_list.r",
          "varRefreshCmd": "cat(var_dic_list()) "
        }
      },
      "types_to_exclude": [
        "module",
        "function",
        "builtin_function_or_method",
        "instance",
        "_Feature"
      ],
      "window_display": false
    },
    "colab": {
      "name": "surface_defect_detection.ipynb",
      "provenance": [],
      "include_colab_link": true
    },
    "accelerator": "GPU"
  },
  "nbformat": 4,
  "nbformat_minor": 0
}