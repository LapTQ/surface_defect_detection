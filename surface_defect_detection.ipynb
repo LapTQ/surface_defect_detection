{
  "cells": [
    {
      "cell_type": "markdown",
      "metadata": {
        "id": "view-in-github",
        "colab_type": "text"
      },
      "source": [
        "<a href=\"https://colab.research.google.com/github/LapTQ/surface_defect_detection/blob/main/surface_defect_detection.ipynb\" target=\"_parent\"><img src=\"https://colab.research.google.com/assets/colab-badge.svg\" alt=\"Open In Colab\"/></a>"
      ]
    },
    {
      "cell_type": "markdown",
      "source": [
        "Datasets:\n",
        "* Detection\n",
        " * [Steel Surface: NEU-CLS](http://faculty.neu.edu.cn/songkc/en/zdylm/263265/list/index.htm)\n",
        " * [DeepPBC](https://github.com/Charmve/Surface-Defect-Detection/tree/master/DeepPCB)\n",
        "* Segmenation\n",
        " * [Severstal: Steel Defect Detection](https://www.kaggle.com/c/severstal-steel-defect-detection/overview)\n",
        " * [AITEX FABRIC IMAGE DATABASE](https://www.aitex.es/afid/)"
      ],
      "metadata": {
        "id": "RdSoW8caiQXU"
      }
    },
    {
      "cell_type": "markdown",
      "source": [
        "* EDA\n",
        "* algorithms to detect ROI then classify (2 stages): faster RCNN, seam carving, interest points,...\n",
        "* classify then detect ROI: saliency map\n",
        "* compare to papers with the same dataset"
      ],
      "metadata": {
        "id": "5VJF9t4joTl4"
      }
    },
    {
      "cell_type": "markdown",
      "source": [
        "https://towardsdatascience.com/i-performed-error-analysis-on-open-images-and-now-i-have-trust-issues-89080e03ba09"
      ],
      "metadata": {
        "id": "r83S0uWZJetN"
      }
    },
    {
      "cell_type": "markdown",
      "source": [
        "https://stackoverflow.com/questions/67244258/how-to-get-class-and-bounding-box-coordinates-from-yolov5-predictions\n",
        "\n",
        "https://docs.ultralytics.com/tutorials/pytorch-hub/"
      ],
      "metadata": {
        "id": "T9PQJ567CJBT"
      }
    },
    {
      "cell_type": "code",
      "source": [
        "!git clone https://github.com/LapTQ/surface_defect_detection.git\n",
        "!git clone https://github.com/ultralytics/yolov5\n",
        "# !pip install -r yolov5/requirements.txt"
      ],
      "metadata": {
        "colab": {
          "base_uri": "https://localhost:8080/"
        },
        "id": "4B8tjAu3Sjza",
        "outputId": "21695d75-b21b-4df4-e292-b4964264bc95"
      },
      "execution_count": 1,
      "outputs": [
        {
          "output_type": "stream",
          "name": "stdout",
          "text": [
            "Cloning into 'surface_defect_detection'...\n",
            "remote: Enumerating objects: 3706, done.\u001b[K\n",
            "remote: Counting objects: 100% (3706/3706), done.\u001b[K\n",
            "remote: Compressing objects: 100% (1992/1992), done.\u001b[K\n",
            "remote: Total 3706 (delta 1765), reused 3603 (delta 1710), pack-reused 0\u001b[K\n",
            "Receiving objects: 100% (3706/3706), 26.32 MiB | 31.74 MiB/s, done.\n",
            "Resolving deltas: 100% (1765/1765), done.\n",
            "Cloning into 'yolov5'...\n",
            "remote: Enumerating objects: 11327, done.\u001b[K\n",
            "remote: Counting objects: 100% (13/13), done.\u001b[K\n",
            "remote: Compressing objects: 100% (8/8), done.\u001b[K\n",
            "remote: Total 11327 (delta 5), reused 13 (delta 5), pack-reused 11314\u001b[K\n",
            "Receiving objects: 100% (11327/11327), 11.22 MiB | 22.84 MiB/s, done.\n",
            "Resolving deltas: 100% (7823/7823), done.\n"
          ]
        }
      ]
    },
    {
      "cell_type": "code",
      "source": [
        "import torch\n",
        "import tensorflow as tf\n",
        "from IPython.display import Image\n",
        "import os\n",
        "import sys\n",
        "import random\n",
        "import shutil\n",
        "from sklearn.model_selection import train_test_split\n",
        "import xml.etree.ElementTree as ET\n",
        "from pathlib import Path\n",
        "from PIL import Image, ImageDraw\n",
        "import numpy as np\n",
        "import matplotlib.pyplot as plt\n",
        "import pandas as pd\n",
        "\n",
        "print('torch %s %s' % (torch.__version__, torch.cuda.get_device_properties(0) if torch.cuda.is_available() else 'CPU'))"
      ],
      "metadata": {
        "colab": {
          "base_uri": "https://localhost:8080/"
        },
        "id": "prvsEk75MIkv",
        "outputId": "638c6276-4018-4355-ebe9-f7bbee61113b"
      },
      "execution_count": 2,
      "outputs": [
        {
          "output_type": "stream",
          "name": "stdout",
          "text": [
            "torch 1.10.0+cu111 CPU\n"
          ]
        }
      ]
    },
    {
      "cell_type": "markdown",
      "source": [
        "## EDA"
      ],
      "metadata": {
        "id": "3JDEEp-EtlkY"
      }
    },
    {
      "cell_type": "code",
      "source": [
        "print('[INFO] number of xml files:', len(list(Path('surface_defect_detection/NEU-DET/ANNOTATIONS').glob('*.xml'))))\n",
        "print('[INFO] number of images (.jpg) files:', len(list(Path('surface_defect_detection/NEU-DET/IMAGES').glob('*.jpg'))))"
      ],
      "metadata": {
        "colab": {
          "base_uri": "https://localhost:8080/"
        },
        "id": "V2X_1kwitpF5",
        "outputId": "900d1993-693d-4b90-92c9-5603aabed876"
      },
      "execution_count": 5,
      "outputs": [
        {
          "output_type": "stream",
          "name": "stdout",
          "text": [
            "[INFO] number of xml files: 1800\n",
            "[INFO] number of images (.jpg) files: 1800\n"
          ]
        }
      ]
    },
    {
      "cell_type": "code",
      "source": [
        "# show an example\n",
        "!cat surface_defect_detection/NEU-DET/ANNOTATIONS/crazing_2.xml"
      ],
      "metadata": {
        "colab": {
          "base_uri": "https://localhost:8080/"
        },
        "id": "6kGYxc5dSbD0",
        "outputId": "1fb0dcc3-7b71-4a06-993f-8bedd6e57db5"
      },
      "execution_count": 31,
      "outputs": [
        {
          "output_type": "stream",
          "name": "stdout",
          "text": [
            "<annotation>\n",
            "\t<folder>cr</folder>\n",
            "\t<filename>crazing_2.jpg</filename>\n",
            "\t<source>\n",
            "\t\t<database>NEU-DET</database>\n",
            "\t</source>\n",
            "\t<size>\n",
            "\t\t<width>200</width>\n",
            "\t\t<height>200</height>\n",
            "\t\t<depth>1</depth>\n",
            "\t</size>\n",
            "\t<segmented>0</segmented>\n",
            "\t<object>\n",
            "\t\t<name>crazing</name>\n",
            "\t\t<pose>Unspecified</pose>\n",
            "\t\t<truncated>1</truncated>\n",
            "\t\t<difficult>0</difficult>\n",
            "\t\t<bndbox>\n",
            "\t\t\t<xmin>99</xmin>\n",
            "\t\t\t<ymin>120</ymin>\n",
            "\t\t\t<xmax>200</xmax>\n",
            "\t\t\t<ymax>174</ymax>\n",
            "\t\t</bndbox>\n",
            "\t</object>\n",
            "\t<object>\n",
            "\t\t<name>crazing</name>\n",
            "\t\t<pose>Unspecified</pose>\n",
            "\t\t<truncated>1</truncated>\n",
            "\t\t<difficult>0</difficult>\n",
            "\t\t<bndbox>\n",
            "\t\t\t<xmin>8</xmin>\n",
            "\t\t\t<ymin>16</ymin>\n",
            "\t\t\t<xmax>200</xmax>\n",
            "\t\t\t<ymax>111</ymax>\n",
            "\t\t</bndbox>\n",
            "\t</object>\n",
            "</annotation>\n"
          ]
        }
      ]
    },
    {
      "cell_type": "code",
      "source": [
        "def extract_info_from_xml(xml_file):\n",
        "    \"\"\"Read xml file and extract information.\n",
        "    Arguments:\n",
        "        xml_file - path to the xml file.\n",
        "    Return a dictionary containing info.\n",
        "    \"\"\"\n",
        "    xml_root = ET.parse(xml_file).getroot()\n",
        "\n",
        "    info = {}\n",
        "    info['bboxes'] = []\n",
        "    \n",
        "    for element in xml_root:\n",
        "        # get image file name\n",
        "        if element.tag == 'filename':\n",
        "            info['filename'] = element.text\n",
        "\n",
        "        # get image size\n",
        "        if element.tag == 'size':\n",
        "            image_size = []\n",
        "            for sub_element in element:\n",
        "                info['image_' + sub_element.tag] = int(sub_element.text)\n",
        "        \n",
        "        # get bounding boxes\n",
        "        if element.tag == 'object':\n",
        "            bbox = {}\n",
        "            for sub_element in element:\n",
        "                if sub_element.tag == 'name':\n",
        "                    bbox['class'] = sub_element.text\n",
        "                elif sub_element.tag == 'bndbox':\n",
        "                    for sub_sub_element in sub_element:\n",
        "                        bbox[sub_sub_element.tag] = int(sub_sub_element.text)\n",
        "            info['bboxes'].append(bbox)\n",
        "    return info"
      ],
      "metadata": {
        "id": "GfcDjzEJhega"
      },
      "execution_count": 3,
      "outputs": []
    },
    {
      "cell_type": "code",
      "source": [
        "extract_info_from_xml('surface_defect_detection/NEU-DET/ANNOTATIONS/crazing_2.xml')"
      ],
      "metadata": {
        "colab": {
          "base_uri": "https://localhost:8080/"
        },
        "id": "1F-jmIzV2fAR",
        "outputId": "bbc8455e-2902-43f5-8c96-4cf9810b3fdc"
      },
      "execution_count": 4,
      "outputs": [
        {
          "output_type": "execute_result",
          "data": {
            "text/plain": [
              "{'bboxes': [{'class': 'crazing',\n",
              "   'xmax': 200,\n",
              "   'xmin': 99,\n",
              "   'ymax': 174,\n",
              "   'ymin': 120},\n",
              "  {'class': 'crazing', 'xmax': 200, 'xmin': 8, 'ymax': 111, 'ymin': 16}],\n",
              " 'filename': 'crazing_2.jpg',\n",
              " 'image_depth': 1,\n",
              " 'image_height': 200,\n",
              " 'image_width': 200}"
            ]
          },
          "metadata": {},
          "execution_count": 4
        }
      ]
    },
    {
      "cell_type": "code",
      "source": [
        "class_name_to_id_mapping = {\n",
        "    'crazing': 0, \n",
        "    'inclusion': 1, \n",
        "    'patches': 2, \n",
        "    'pitted_surface': 3,\n",
        "    'rolled-in_scale': 4,\n",
        "    'scratches': 5\n",
        "}\n",
        "class_id_to_name_mapping = {class_id: class_name for class_name, class_id in class_name_to_id_mapping.items()}\n",
        "class_id_to_name_mapping"
      ],
      "metadata": {
        "colab": {
          "base_uri": "https://localhost:8080/"
        },
        "id": "TxT5eEp3n7-p",
        "outputId": "c1e8e657-10d8-454a-ec96-954095c1fd92"
      },
      "execution_count": 4,
      "outputs": [
        {
          "output_type": "execute_result",
          "data": {
            "text/plain": [
              "{0: 'crazing',\n",
              " 1: 'inclusion',\n",
              " 2: 'patches',\n",
              " 3: 'pitted_surface',\n",
              " 4: 'rolled-in_scale',\n",
              " 5: 'scratches'}"
            ]
          },
          "metadata": {},
          "execution_count": 4
        }
      ]
    },
    {
      "cell_type": "code",
      "source": [
        "!mkdir dataset\n",
        "!mkdir dataset/labels\n",
        "!cp -r surface_defect_detection/NEU-DET/IMAGES /content/dataset/images"
      ],
      "metadata": {
        "id": "_X3EKbs6tm5f"
      },
      "execution_count": 5,
      "outputs": []
    },
    {
      "cell_type": "code",
      "source": [
        "def convert_to_yolov5(info):\n",
        "    \"\"\"Convert extracted info into yolov5 required format and save it in a new labels directory.\n",
        "    Argument:\n",
        "        info - Python dictionary. Eg:\n",
        "            {\n",
        "            'bboxes': [\n",
        "                        {'class': 'crazing', 'xmax': 200, 'xmin': 99, 'ymax': 174, 'ymin': 120},\n",
        "                        {'class': 'crazing', 'xmax': 200, 'xmin': 8, 'ymax': 111, 'ymin': 16}\n",
        "                      ],\n",
        "            'filename': 'crazing_2.jpg',\n",
        "            'image_size': (200, 200, 1)\n",
        "            }\n",
        "    => converted as: class_id x y w h\n",
        "        0 0.747500 0.735000 0.505000 0.270000\n",
        "        0 0.520000 0.317500 0.960000 0.475000\n",
        "\n",
        "    \"\"\"\n",
        "    buffer = []\n",
        "\n",
        "    for bbox in info['bboxes']:\n",
        "        try:\n",
        "            class_id = class_name_to_id_mapping[bbox['class']]\n",
        "        except KeyError:\n",
        "            print('Invalid class. Must be one from', class_name_to_id_mapping)\n",
        "\n",
        "        # convert to [x, y, w, h]\n",
        "        bx = (bbox['xmin'] + bbox['xmax']) / 2\n",
        "        by = (bbox['ymin'] + bbox['ymax']) / 2\n",
        "        bw = (bbox['xmax'] - bbox['xmin'])\n",
        "        bh = (bbox['ymax'] - bbox['ymin'])\n",
        "\n",
        "        # normalize bbox dimensions\n",
        "        bx /= info['image_width']\n",
        "        by /= info['image_height']\n",
        "        bw /= info['image_width']\n",
        "        bh /= info['image_height']\n",
        "\n",
        "        buffer.append('{} {:3f} {:3f} {:3f} {:3f}'.format(class_id, bx, by, bw, bh))\n",
        "    \n",
        "    # store in .txt file\n",
        "    save_filename = os.path.join('dataset/labels', info['filename'].replace('.jpg', '') + '.txt')\n",
        "    print('\\n'.join(buffer), file=open(save_filename, 'w'))\n",
        "    return {'class_id': class_id,\n",
        "            'bx': bx,\n",
        "            'by': by,\n",
        "            'bw': bw,\n",
        "            'bh': bh}"
      ],
      "metadata": {
        "id": "kZimWCEEofjx"
      },
      "execution_count": 6,
      "outputs": []
    },
    {
      "cell_type": "code",
      "source": [
        "# Extract info from .xml files and save in .txt files\n",
        "for ann in Path('surface_defect_detection/NEU-DET/ANNOTATIONS').glob('*.xml'):\n",
        "    info = extract_info_from_xml(ann)\n",
        "    convert_to_yolov5(info)"
      ],
      "metadata": {
        "id": "d38DbZGusK6n"
      },
      "execution_count": 7,
      "outputs": []
    },
    {
      "cell_type": "code",
      "source": [
        "# check for any missing\n",
        "assert len(list(Path('dataset/labels').glob('*.txt'))) == len(list(Path('surface_defect_detection/NEU-DET/ANNOTATIONS').glob('*.xml'))), \"Missing some .txt files\"\n",
        "assert len(list(Path('dataset/images').glob('*.jpg'))) == len(list(Path('surface_defect_detection/NEU-DET/IMAGES').glob('*.jpg'))), \"Missing some images\""
      ],
      "metadata": {
        "id": "GklZHu2Wx6kG"
      },
      "execution_count": 8,
      "outputs": []
    },
    {
      "cell_type": "code",
      "source": [
        "# # extract info from annotation folder and store in a Dataframe\n",
        "# info_list = []\n",
        "# for xml_path in Path('surface_defect_detection/NEU-DET/ANNOTATIONS').glob('*.xml'):\n",
        "#     info = extract_info_from_xml(xml_path)\n",
        "#     for bbox in info['bboxes']:\n",
        "#         info_list.append(\n",
        "#             {'image_width': info['image_width'],\n",
        "#              'image_height': info['image_height'],\n",
        "#              'image_depth': info['image_depth'],\n",
        "#              'filename': info['filename'],\n",
        "#              'class': bbox['class'],\n",
        "#              'xmin': bbox['xmin'],\n",
        "#              'ymin': bbox['ymin'],\n",
        "#              'xmax': bbox['xmax'],\n",
        "#              'ymax': bbox['ymax'],\n",
        "#             #  'bbox_x': (bbox['xmin'] + bbox['xmax']) / 2,\n",
        "#             #  'bbox_y': (bbox['ymin'] + bbox['ymax']) / 2,\n",
        "#             #  'bbox_width': (bbox['xmax'] - bbox['xmin']),\n",
        "#             #  'bbox_height': (bbox['ymax'] - bbox['ymin'])\n",
        "#              }\n",
        "#         )\n",
        "\n",
        "# info_df = pd.DataFrame.from_dict(info_list)\n",
        "# info_df"
      ],
      "metadata": {
        "colab": {
          "base_uri": "https://localhost:8080/",
          "height": 424
        },
        "id": "GbXlWGGbZjTo",
        "outputId": "aae1959a-bd43-4c50-8c1f-37f5b82b2656"
      },
      "execution_count": 6,
      "outputs": [
        {
          "output_type": "execute_result",
          "data": {
            "text/plain": [
              "      image_width  image_height  image_depth           filename      class  \\\n",
              "0             200           200            1  scratches_267.jpg  scratches   \n",
              "1             200           200            1  scratches_267.jpg  scratches   \n",
              "2             200           200            1  scratches_256.jpg  scratches   \n",
              "3             200           200            1        patches_162    patches   \n",
              "4             200           200            1     patches_86.jpg    patches   \n",
              "...           ...           ...          ...                ...        ...   \n",
              "4184          200           200            1    patches_252.jpg    patches   \n",
              "4185          200           200            1    patches_252.jpg    patches   \n",
              "4186          200           200            1         patches_20    patches   \n",
              "4187          200           200            1     crazing_58.jpg    crazing   \n",
              "4188          200           200            1     crazing_58.jpg    crazing   \n",
              "\n",
              "      xmin  ymin  xmax  ymax  \n",
              "0        1   141   119   160  \n",
              "1      113   181   198   196  \n",
              "2        1    90   199   124  \n",
              "3       22   109   101   196  \n",
              "4       40    37   145   150  \n",
              "...    ...   ...   ...   ...  \n",
              "4184   121   163   176   200  \n",
              "4185    19   150    62   197  \n",
              "4186    56     1   115   191  \n",
              "4187     3   134   189   198  \n",
              "4188     1    34   196   126  \n",
              "\n",
              "[4189 rows x 9 columns]"
            ],
            "text/html": [
              "\n",
              "  <div id=\"df-ed38f5da-ac1e-4ebe-9488-ed81c3d8f056\">\n",
              "    <div class=\"colab-df-container\">\n",
              "      <div>\n",
              "<style scoped>\n",
              "    .dataframe tbody tr th:only-of-type {\n",
              "        vertical-align: middle;\n",
              "    }\n",
              "\n",
              "    .dataframe tbody tr th {\n",
              "        vertical-align: top;\n",
              "    }\n",
              "\n",
              "    .dataframe thead th {\n",
              "        text-align: right;\n",
              "    }\n",
              "</style>\n",
              "<table border=\"1\" class=\"dataframe\">\n",
              "  <thead>\n",
              "    <tr style=\"text-align: right;\">\n",
              "      <th></th>\n",
              "      <th>image_width</th>\n",
              "      <th>image_height</th>\n",
              "      <th>image_depth</th>\n",
              "      <th>filename</th>\n",
              "      <th>class</th>\n",
              "      <th>xmin</th>\n",
              "      <th>ymin</th>\n",
              "      <th>xmax</th>\n",
              "      <th>ymax</th>\n",
              "    </tr>\n",
              "  </thead>\n",
              "  <tbody>\n",
              "    <tr>\n",
              "      <th>0</th>\n",
              "      <td>200</td>\n",
              "      <td>200</td>\n",
              "      <td>1</td>\n",
              "      <td>scratches_267.jpg</td>\n",
              "      <td>scratches</td>\n",
              "      <td>1</td>\n",
              "      <td>141</td>\n",
              "      <td>119</td>\n",
              "      <td>160</td>\n",
              "    </tr>\n",
              "    <tr>\n",
              "      <th>1</th>\n",
              "      <td>200</td>\n",
              "      <td>200</td>\n",
              "      <td>1</td>\n",
              "      <td>scratches_267.jpg</td>\n",
              "      <td>scratches</td>\n",
              "      <td>113</td>\n",
              "      <td>181</td>\n",
              "      <td>198</td>\n",
              "      <td>196</td>\n",
              "    </tr>\n",
              "    <tr>\n",
              "      <th>2</th>\n",
              "      <td>200</td>\n",
              "      <td>200</td>\n",
              "      <td>1</td>\n",
              "      <td>scratches_256.jpg</td>\n",
              "      <td>scratches</td>\n",
              "      <td>1</td>\n",
              "      <td>90</td>\n",
              "      <td>199</td>\n",
              "      <td>124</td>\n",
              "    </tr>\n",
              "    <tr>\n",
              "      <th>3</th>\n",
              "      <td>200</td>\n",
              "      <td>200</td>\n",
              "      <td>1</td>\n",
              "      <td>patches_162</td>\n",
              "      <td>patches</td>\n",
              "      <td>22</td>\n",
              "      <td>109</td>\n",
              "      <td>101</td>\n",
              "      <td>196</td>\n",
              "    </tr>\n",
              "    <tr>\n",
              "      <th>4</th>\n",
              "      <td>200</td>\n",
              "      <td>200</td>\n",
              "      <td>1</td>\n",
              "      <td>patches_86.jpg</td>\n",
              "      <td>patches</td>\n",
              "      <td>40</td>\n",
              "      <td>37</td>\n",
              "      <td>145</td>\n",
              "      <td>150</td>\n",
              "    </tr>\n",
              "    <tr>\n",
              "      <th>...</th>\n",
              "      <td>...</td>\n",
              "      <td>...</td>\n",
              "      <td>...</td>\n",
              "      <td>...</td>\n",
              "      <td>...</td>\n",
              "      <td>...</td>\n",
              "      <td>...</td>\n",
              "      <td>...</td>\n",
              "      <td>...</td>\n",
              "    </tr>\n",
              "    <tr>\n",
              "      <th>4184</th>\n",
              "      <td>200</td>\n",
              "      <td>200</td>\n",
              "      <td>1</td>\n",
              "      <td>patches_252.jpg</td>\n",
              "      <td>patches</td>\n",
              "      <td>121</td>\n",
              "      <td>163</td>\n",
              "      <td>176</td>\n",
              "      <td>200</td>\n",
              "    </tr>\n",
              "    <tr>\n",
              "      <th>4185</th>\n",
              "      <td>200</td>\n",
              "      <td>200</td>\n",
              "      <td>1</td>\n",
              "      <td>patches_252.jpg</td>\n",
              "      <td>patches</td>\n",
              "      <td>19</td>\n",
              "      <td>150</td>\n",
              "      <td>62</td>\n",
              "      <td>197</td>\n",
              "    </tr>\n",
              "    <tr>\n",
              "      <th>4186</th>\n",
              "      <td>200</td>\n",
              "      <td>200</td>\n",
              "      <td>1</td>\n",
              "      <td>patches_20</td>\n",
              "      <td>patches</td>\n",
              "      <td>56</td>\n",
              "      <td>1</td>\n",
              "      <td>115</td>\n",
              "      <td>191</td>\n",
              "    </tr>\n",
              "    <tr>\n",
              "      <th>4187</th>\n",
              "      <td>200</td>\n",
              "      <td>200</td>\n",
              "      <td>1</td>\n",
              "      <td>crazing_58.jpg</td>\n",
              "      <td>crazing</td>\n",
              "      <td>3</td>\n",
              "      <td>134</td>\n",
              "      <td>189</td>\n",
              "      <td>198</td>\n",
              "    </tr>\n",
              "    <tr>\n",
              "      <th>4188</th>\n",
              "      <td>200</td>\n",
              "      <td>200</td>\n",
              "      <td>1</td>\n",
              "      <td>crazing_58.jpg</td>\n",
              "      <td>crazing</td>\n",
              "      <td>1</td>\n",
              "      <td>34</td>\n",
              "      <td>196</td>\n",
              "      <td>126</td>\n",
              "    </tr>\n",
              "  </tbody>\n",
              "</table>\n",
              "<p>4189 rows × 9 columns</p>\n",
              "</div>\n",
              "      <button class=\"colab-df-convert\" onclick=\"convertToInteractive('df-ed38f5da-ac1e-4ebe-9488-ed81c3d8f056')\"\n",
              "              title=\"Convert this dataframe to an interactive table.\"\n",
              "              style=\"display:none;\">\n",
              "        \n",
              "  <svg xmlns=\"http://www.w3.org/2000/svg\" height=\"24px\"viewBox=\"0 0 24 24\"\n",
              "       width=\"24px\">\n",
              "    <path d=\"M0 0h24v24H0V0z\" fill=\"none\"/>\n",
              "    <path d=\"M18.56 5.44l.94 2.06.94-2.06 2.06-.94-2.06-.94-.94-2.06-.94 2.06-2.06.94zm-11 1L8.5 8.5l.94-2.06 2.06-.94-2.06-.94L8.5 2.5l-.94 2.06-2.06.94zm10 10l.94 2.06.94-2.06 2.06-.94-2.06-.94-.94-2.06-.94 2.06-2.06.94z\"/><path d=\"M17.41 7.96l-1.37-1.37c-.4-.4-.92-.59-1.43-.59-.52 0-1.04.2-1.43.59L10.3 9.45l-7.72 7.72c-.78.78-.78 2.05 0 2.83L4 21.41c.39.39.9.59 1.41.59.51 0 1.02-.2 1.41-.59l7.78-7.78 2.81-2.81c.8-.78.8-2.07 0-2.86zM5.41 20L4 18.59l7.72-7.72 1.47 1.35L5.41 20z\"/>\n",
              "  </svg>\n",
              "      </button>\n",
              "      \n",
              "  <style>\n",
              "    .colab-df-container {\n",
              "      display:flex;\n",
              "      flex-wrap:wrap;\n",
              "      gap: 12px;\n",
              "    }\n",
              "\n",
              "    .colab-df-convert {\n",
              "      background-color: #E8F0FE;\n",
              "      border: none;\n",
              "      border-radius: 50%;\n",
              "      cursor: pointer;\n",
              "      display: none;\n",
              "      fill: #1967D2;\n",
              "      height: 32px;\n",
              "      padding: 0 0 0 0;\n",
              "      width: 32px;\n",
              "    }\n",
              "\n",
              "    .colab-df-convert:hover {\n",
              "      background-color: #E2EBFA;\n",
              "      box-shadow: 0px 1px 2px rgba(60, 64, 67, 0.3), 0px 1px 3px 1px rgba(60, 64, 67, 0.15);\n",
              "      fill: #174EA6;\n",
              "    }\n",
              "\n",
              "    [theme=dark] .colab-df-convert {\n",
              "      background-color: #3B4455;\n",
              "      fill: #D2E3FC;\n",
              "    }\n",
              "\n",
              "    [theme=dark] .colab-df-convert:hover {\n",
              "      background-color: #434B5C;\n",
              "      box-shadow: 0px 1px 3px 1px rgba(0, 0, 0, 0.15);\n",
              "      filter: drop-shadow(0px 1px 2px rgba(0, 0, 0, 0.3));\n",
              "      fill: #FFFFFF;\n",
              "    }\n",
              "  </style>\n",
              "\n",
              "      <script>\n",
              "        const buttonEl =\n",
              "          document.querySelector('#df-ed38f5da-ac1e-4ebe-9488-ed81c3d8f056 button.colab-df-convert');\n",
              "        buttonEl.style.display =\n",
              "          google.colab.kernel.accessAllowed ? 'block' : 'none';\n",
              "\n",
              "        async function convertToInteractive(key) {\n",
              "          const element = document.querySelector('#df-ed38f5da-ac1e-4ebe-9488-ed81c3d8f056');\n",
              "          const dataTable =\n",
              "            await google.colab.kernel.invokeFunction('convertToInteractive',\n",
              "                                                     [key], {});\n",
              "          if (!dataTable) return;\n",
              "\n",
              "          const docLinkHtml = 'Like what you see? Visit the ' +\n",
              "            '<a target=\"_blank\" href=https://colab.research.google.com/notebooks/data_table.ipynb>data table notebook</a>'\n",
              "            + ' to learn more about interactive tables.';\n",
              "          element.innerHTML = '';\n",
              "          dataTable['output_type'] = 'display_data';\n",
              "          await google.colab.output.renderOutput(dataTable, element);\n",
              "          const docLink = document.createElement('div');\n",
              "          docLink.innerHTML = docLinkHtml;\n",
              "          element.appendChild(docLink);\n",
              "        }\n",
              "      </script>\n",
              "    </div>\n",
              "  </div>\n",
              "  "
            ]
          },
          "metadata": {},
          "execution_count": 6
        }
      ]
    },
    {
      "cell_type": "code",
      "source": [
        "# print(\"[INFO] number of images:\", len(info_df['filename'].unique()))\n",
        "# print(\"[INFO] image size: ({}, {}, {})\".format(info_df['image_width'].unique()[0], info_df['image_height'].unique()[0], info_df['image_depth'].unique()[0]))\n",
        "# info_df.groupby('class')['class'].count().plot.bar(ylabel='number of object', rot=15)\n",
        "\n",
        "# # info_df['x'] = (info_df['xmin'] + info_df['xmax']) / 2\n",
        "# # info_df['y'] = (info_df['ymin'] + info_df['ymax']) / 2\n",
        "# info_df['w'] = (info_df['xmax'] - info_df['xmin'])\n",
        "# info_df['h'] = (info_df['ymax'] - info_df['ymin'])\n",
        "\n",
        "# colors = {\n",
        "#     'crazing': (0, 0, 1),\n",
        "#     'inclusion': (0, 1, 0),\n",
        "#     'patches': (1, 0, 0),\n",
        "#     'pitted_surface': (1, 1, 0),\n",
        "#     'rolled-in_scale': (1, 0, 1),\n",
        "#     'scratches': (0, 1, 1)\n",
        "# }\n",
        "# plt.figure(figsize=(15, 15))\n",
        "# ax = plt.gca()\n",
        "# for index in info_df.index:\n",
        "#     patch = plt.Rectangle([100 - info_df.iloc[index]['w']/2, 100 - info_df.iloc[index]['h']/2], info_df.iloc[index]['w'], info_df.iloc[index]['h'],\n",
        "#                           fill=False, edgecolor=colors[info_df.iloc[index]['class']], linewidth=1)\n",
        "#     ax.add_patch(patch)\n",
        "# plt.ylim([0, 200])\n",
        "# plt.xlim([0, 200])\n",
        "# plt.show()\n"
      ],
      "metadata": {
        "id": "MPbKh5_ocPX5"
      },
      "execution_count": null,
      "outputs": []
    },
    {
      "cell_type": "code",
      "source": [
        "def plot_bbox(image, annotation_list):\n",
        "    \"\"\"\n",
        "    Arguments:\n",
        "        image - PIL Image object\n",
        "        annotation_list - Python list object containing bboxes [[bx, by, bw, bh], [...], ...] for an image\n",
        "    \"\"\"\n",
        "    annotations = np.array(annotation_list)\n",
        "    w, h = image.size\n",
        "\n",
        "    plt.imshow(image)\n",
        "\n",
        "    plotted_img = ImageDraw.Draw(image)\n",
        "\n",
        "    # convert [bx, by, bw, bh] to actual size in pixel [x, y, w, h]\n",
        "    transformed_ann = np.copy(annotations)\n",
        "    transformed_ann[:, [1, 3]] = annotations[:, [1, 3]] * w\n",
        "    transformed_ann[:, [2, 4]] = annotations[:, [2, 4]] * h\n",
        "    \n",
        "    # convert [x, y, w, h] to [xmin, ymin, xmax, ymax]\n",
        "    transformed_ann[:, 1] -= transformed_ann[:, 3] / 2\n",
        "    transformed_ann[:, 2] -= transformed_ann[:, 4] / 2\n",
        "    transformed_ann[:, 3] += transformed_ann[:, 1]\n",
        "    transformed_ann[:, 4] += transformed_ann[:, 2]\n",
        "\n",
        "    for ann in transformed_ann:\n",
        "        class_id, xmin, ymin, xmax, ymax = ann\n",
        "        plotted_img.rectangle(((xmin, ymin), (xmax, ymax)))\n",
        "        plotted_img.text((xmin, ymin - 10), class_id_to_name_mapping[class_id])\n",
        "    \n",
        "    plt.imshow(np.array(image))\n",
        "    plt.show()"
      ],
      "metadata": {
        "id": "wXg4-MnIwARJ"
      },
      "execution_count": 12,
      "outputs": []
    },
    {
      "cell_type": "code",
      "source": [
        "# show an example\n",
        "annotation_file = random.choice(list(Path('dataset/labels').glob('*.txt')))\n",
        "with open(annotation_file, 'r') as file:\n",
        "    annotation_list = file.read().split('\\n')[:-1]\n",
        "    annotation_list = [_.split() for _ in annotation_list]\n",
        "    annotation_list = [[float(_) for _ in __] for __ in annotation_list]\n",
        "\n",
        "image = Image.open(str(annotation_file).replace('labels', 'images').replace('txt', 'jpg'))\n",
        "plot_bbox(image, annotation_list)"
      ],
      "metadata": {
        "colab": {
          "base_uri": "https://localhost:8080/",
          "height": 269
        },
        "id": "_8cmW3QTRxBR",
        "outputId": "3254218b-ed6e-43c5-a941-1d61a8b94958"
      },
      "execution_count": 14,
      "outputs": [
        {
          "output_type": "display_data",
          "data": {
            "text/plain": [
              "<Figure size 432x288 with 1 Axes>"
            ],
            "image/png": "[encoded data removed]"
          },
          "metadata": {
            "needs_background": "light"
          }
        }
      ]
    },
    {
      "cell_type": "markdown",
      "source": [
        "## Preparing training, validation, test dataset"
      ],
      "metadata": {
        "id": "6WMaVlAqSAj1"
      }
    },
    {
      "cell_type": "code",
      "source": [
        "annotations = [str(_) for _ in Path('dataset/labels').glob('*.txt')]\n",
        "images = [_.replace('labels', 'images').replace('txt', 'jpg') for _ in annotations]\n",
        "\n",
        "train_images, val_images, train_annotations, val_annotations = train_test_split(images, annotations, test_size=0.3, random_state=42)\n",
        "val_images, test_images, val_annotations, test_annotations = train_test_split(val_images, val_annotations, test_size=0.5, random_state=42)"
      ],
      "metadata": {
        "id": "co1CdMjN1npy"
      },
      "execution_count": 15,
      "outputs": []
    },
    {
      "cell_type": "code",
      "source": [
        "!mkdir dataset/images/train dataset/images/val dataset/images/test dataset/labels/train dataset/labels/val dataset/labels/test"
      ],
      "metadata": {
        "id": "Q3UxF-cl4nsZ"
      },
      "execution_count": 16,
      "outputs": []
    },
    {
      "cell_type": "code",
      "source": [
        "def move_files_to_folder(file_list, destination_folder):\n",
        "    for f in file_list:\n",
        "        try:\n",
        "            shutil.move(f, destination_folder)\n",
        "        except:\n",
        "            print(f)\n",
        "            assert False\n",
        "\n",
        "move_files_to_folder(train_images, 'dataset/images/train')\n",
        "move_files_to_folder(val_images, 'dataset/images/val')\n",
        "move_files_to_folder(test_images, 'dataset/images/test')\n",
        "move_files_to_folder(train_annotations, 'dataset/labels/train')\n",
        "move_files_to_folder(val_annotations, 'dataset/labels/val')\n",
        "move_files_to_folder(test_annotations, 'dataset/labels/test')"
      ],
      "metadata": {
        "id": "Yyx8_gdH4_Mx"
      },
      "execution_count": 17,
      "outputs": []
    },
    {
      "cell_type": "code",
      "source": [
        "with open('yolov5/data/surface_defect_data.yaml', 'w') as f:\n",
        "    f.write(f\"\\\n",
        "train: ../dataset/images/train/\\n\\\n",
        "val: ../dataset/images/val/\\n\\\n",
        "test: ../dataset/images/test/\\n\\\n",
        "\\n\\\n",
        "# number of classes\\n\\\n",
        "nc: 6\\n\\\n",
        "\\n\\\n",
        "# class names \\n\\\n",
        "names: ['crazing', 'inclusion', 'patches', 'pitted_surface', 'rolled-in_scale', 'scratches']\\\n",
        "\")"
      ],
      "metadata": {
        "id": "ZD8tGL4v_eEk"
      },
      "execution_count": 18,
      "outputs": []
    },
    {
      "cell_type": "markdown",
      "source": [
        "## Training Yolov5"
      ],
      "metadata": {
        "id": "YJm2hJjlR6Et"
      }
    },
    {
      "cell_type": "code",
      "source": [
        "# %cd yolov5\n",
        "!python train.py --img 640 --cfg yolov5x.yaml --batch 16 --epochs 40 --data surface_defect_data.yaml --weights yolov5x.pt --workers 24 --name yolo_surface_defect --cache\n",
        "# continue training: --weights runs/train/yolo_surface_defect/weights/best.pt\n",
        "# %cd .."
      ],
      "metadata": {
        "colab": {
          "base_uri": "https://localhost:8080/"
        },
        "id": "XUFfmFciAVHC",
        "outputId": "97ec0b94-da0e-4558-ca88-d28ad2376671"
      },
      "execution_count": null,
      "outputs": [
        {
          "output_type": "stream",
          "name": "stdout",
          "text": [
            "\u001b[34m\u001b[1mtrain: \u001b[0mweights=yolov5x.pt, cfg=yolov5x.yaml, data=surface_defect_data.yaml, hyp=data/hyps/hyp.scratch-low.yaml, epochs=40, batch_size=16, imgsz=640, rect=False, resume=False, nosave=False, noval=False, noautoanchor=False, evolve=None, bucket=, cache=ram, image_weights=False, device=, multi_scale=False, single_cls=False, optimizer=SGD, sync_bn=False, workers=24, project=runs/train, name=yolo_surface_defect, exist_ok=False, quad=False, cos_lr=False, label_smoothing=0.0, patience=100, freeze=[0], save_period=-1, local_rank=-1, entity=None, upload_dataset=False, bbox_interval=-1, artifact_alias=latest\n",
            "\u001b[34m\u001b[1mgithub: \u001b[0mup to date with https://github.com/ultralytics/yolov5 ✅\n",
            "YOLOv5 🚀 v6.1-21-ge6e36aa torch 1.10.0+cu111 CUDA:0 (Tesla T4, 15110MiB)\n",
            "\n",
            "\u001b[34m\u001b[1mhyperparameters: \u001b[0mlr0=0.01, lrf=0.01, momentum=0.937, weight_decay=0.0005, warmup_epochs=3.0, warmup_momentum=0.8, warmup_bias_lr=0.1, box=0.05, cls=0.5, cls_pw=1.0, obj=1.0, obj_pw=1.0, iou_t=0.2, anchor_t=4.0, fl_gamma=0.0, hsv_h=0.015, hsv_s=0.7, hsv_v=0.4, degrees=0.0, translate=0.1, scale=0.5, shear=0.0, perspective=0.0, flipud=0.0, fliplr=0.5, mosaic=1.0, mixup=0.0, copy_paste=0.0\n",
            "\u001b[34m\u001b[1mWeights & Biases: \u001b[0mrun 'pip install wandb' to automatically track and visualize YOLOv5 🚀 runs (RECOMMENDED)\n",
            "\u001b[34m\u001b[1mTensorBoard: \u001b[0mStart with 'tensorboard --logdir runs/train', view at http://localhost:6006/\n",
            "Downloading https://github.com/ultralytics/yolov5/releases/download/v6.1/yolov5x.pt to yolov5x.pt...\n",
            "100% 166M/166M [00:01<00:00, 113MB/s] \n",
            "\n",
            "Overriding model.yaml nc=80 with nc=6\n",
            "\n",
            "                 from  n    params  module                                  arguments                     \n",
            "  0                -1  1      8800  models.common.Conv                      [3, 80, 6, 2, 2]              \n",
            "  1                -1  1    115520  models.common.Conv                      [80, 160, 3, 2]               \n",
            "  2                -1  4    309120  models.common.C3                        [160, 160, 4]                 \n",
            "  3                -1  1    461440  models.common.Conv                      [160, 320, 3, 2]              \n",
            "  4                -1  8   2259200  models.common.C3                        [320, 320, 8]                 \n",
            "  5                -1  1   1844480  models.common.Conv                      [320, 640, 3, 2]              \n",
            "  6                -1 12  13125120  models.common.C3                        [640, 640, 12]                \n",
            "  7                -1  1   7375360  models.common.Conv                      [640, 1280, 3, 2]             \n",
            "  8                -1  4  19676160  models.common.C3                        [1280, 1280, 4]               \n",
            "  9                -1  1   4099840  models.common.SPPF                      [1280, 1280, 5]               \n",
            " 10                -1  1    820480  models.common.Conv                      [1280, 640, 1, 1]             \n",
            " 11                -1  1         0  torch.nn.modules.upsampling.Upsample    [None, 2, 'nearest']          \n",
            " 12           [-1, 6]  1         0  models.common.Concat                    [1]                           \n",
            " 13                -1  4   5332480  models.common.C3                        [1280, 640, 4, False]         \n",
            " 14                -1  1    205440  models.common.Conv                      [640, 320, 1, 1]              \n",
            " 15                -1  1         0  torch.nn.modules.upsampling.Upsample    [None, 2, 'nearest']          \n",
            " 16           [-1, 4]  1         0  models.common.Concat                    [1]                           \n",
            " 17                -1  4   1335040  models.common.C3                        [640, 320, 4, False]          \n",
            " 18                -1  1    922240  models.common.Conv                      [320, 320, 3, 2]              \n",
            " 19          [-1, 14]  1         0  models.common.Concat                    [1]                           \n",
            " 20                -1  4   4922880  models.common.C3                        [640, 640, 4, False]          \n",
            " 21                -1  1   3687680  models.common.Conv                      [640, 640, 3, 2]              \n",
            " 22          [-1, 10]  1         0  models.common.Concat                    [1]                           \n",
            " 23                -1  4  19676160  models.common.C3                        [1280, 1280, 4, False]        \n",
            " 24      [17, 20, 23]  1     74019  models.yolo.Detect                      [6, [[10, 13, 16, 30, 33, 23], [30, 61, 62, 45, 59, 119], [116, 90, 156, 198, 373, 326]], [320, 640, 1280]]\n",
            "Model Summary: 567 layers, 86251459 parameters, 86251459 gradients\n",
            "\n",
            "Transferred 738/745 items from yolov5x.pt\n",
            "Scaled weight_decay = 0.0005\n",
            "\u001b[34m\u001b[1moptimizer:\u001b[0m SGD with parameter groups 123 weight (no decay), 126 weight, 126 bias\n",
            "\u001b[34m\u001b[1malbumentations: \u001b[0mversion 1.0.3 required by YOLOv5, but version 0.1.12 is currently installed\n",
            "\u001b[34m\u001b[1mtrain: \u001b[0mScanning '/content/yolov5/../dataset/labels/train' images and labels...1260 found, 0 missing, 0 empty, 0 corrupt: 100% 1260/1260 [00:00<00:00, 2097.79it/s]\n",
            "\u001b[34m\u001b[1mtrain: \u001b[0mWARNING: /content/yolov5/../dataset/images/train/crazing_120.jpg: 1 duplicate labels removed\n",
            "\u001b[34m\u001b[1mtrain: \u001b[0mWARNING: /content/yolov5/../dataset/images/train/inclusion_62.jpg: 1 duplicate labels removed\n",
            "\u001b[34m\u001b[1mtrain: \u001b[0mWARNING: /content/yolov5/../dataset/images/train/patches_198.jpg: 1 duplicate labels removed\n",
            "\u001b[34m\u001b[1mtrain: \u001b[0mNew cache created: /content/yolov5/../dataset/labels/train.cache\n",
            "\u001b[34m\u001b[1mtrain: \u001b[0mCaching images (1.5GB ram): 100% 1260/1260 [00:02<00:00, 455.30it/s]\n",
            "\u001b[34m\u001b[1mval: \u001b[0mScanning '/content/yolov5/../dataset/labels/val' images and labels...270 found, 0 missing, 0 empty, 0 corrupt: 100% 270/270 [00:00<00:00, 754.27it/s]\n",
            "\u001b[34m\u001b[1mval: \u001b[0mNew cache created: /content/yolov5/../dataset/labels/val.cache\n",
            "\u001b[34m\u001b[1mval: \u001b[0mCaching images (0.3GB ram): 100% 270/270 [00:00<00:00, 312.69it/s]\n",
            "Plotting labels to runs/train/yolo_surface_defect2/labels.jpg... \n",
            "\n",
            "\u001b[34m\u001b[1mAutoAnchor: \u001b[0m3.24 anchors/target, 0.988 Best Possible Recall (BPR). Current anchors are a good fit to dataset ✅\n",
            "Image sizes 640 train, 640 val\n",
            "Using 2 dataloader workers\n",
            "Logging results to \u001b[1mruns/train/yolo_surface_defect2\u001b[0m\n",
            "Starting training for 40 epochs...\n",
            "\n",
            "     Epoch   gpu_mem       box       obj       cls    labels  img_size\n",
            "      0/39     14.2G   0.08179   0.04098   0.04668        53       640: 100% 79/79 [01:35<00:00,  1.20s/it]\n",
            "               Class     Images     Labels          P          R     mAP@.5 mAP@.5:.95: 100% 9/9 [00:08<00:00,  1.12it/s]\n",
            "                 all        270        597      0.475      0.143      0.108     0.0358\n",
            "\n",
            "     Epoch   gpu_mem       box       obj       cls    labels  img_size\n",
            "      1/39     14.1G   0.06285   0.03658   0.02204        54       640: 100% 79/79 [01:34<00:00,  1.20s/it]\n",
            "               Class     Images     Labels          P          R     mAP@.5 mAP@.5:.95: 100% 9/9 [00:07<00:00,  1.15it/s]\n",
            "                 all        270        597      0.858      0.065     0.0923     0.0272\n",
            "\n",
            "     Epoch   gpu_mem       box       obj       cls    labels  img_size\n",
            "      2/39     14.1G   0.06097   0.03379   0.01075        49       640: 100% 79/79 [01:37<00:00,  1.23s/it]\n",
            "               Class     Images     Labels          P          R     mAP@.5 mAP@.5:.95: 100% 9/9 [00:07<00:00,  1.15it/s]\n",
            "                 all        270        597      0.328      0.368      0.266     0.0884\n",
            "\n",
            "     Epoch   gpu_mem       box       obj       cls    labels  img_size\n",
            "      3/39     14.1G   0.05592   0.03427   0.00904        61       640: 100% 79/79 [01:37<00:00,  1.23s/it]\n",
            "               Class     Images     Labels          P          R     mAP@.5 mAP@.5:.95: 100% 9/9 [00:07<00:00,  1.15it/s]\n",
            "                 all        270        597      0.252      0.282      0.224     0.0918\n",
            "\n",
            "     Epoch   gpu_mem       box       obj       cls    labels  img_size\n",
            "      4/39     14.1G   0.05026   0.03401  0.006968        73       640: 100% 79/79 [01:37<00:00,  1.23s/it]\n",
            "               Class     Images     Labels          P          R     mAP@.5 mAP@.5:.95: 100% 9/9 [00:07<00:00,  1.14it/s]\n",
            "                 all        270        597      0.307      0.264      0.135     0.0489\n",
            "\n",
            "     Epoch   gpu_mem       box       obj       cls    labels  img_size\n",
            "      5/39     14.1G   0.04719   0.03278   0.00676        47       640: 100% 79/79 [01:37<00:00,  1.23s/it]\n",
            "               Class     Images     Labels          P          R     mAP@.5 mAP@.5:.95: 100% 9/9 [00:07<00:00,  1.16it/s]\n",
            "                 all        270        597      0.504      0.583      0.576      0.268\n",
            "\n",
            "     Epoch   gpu_mem       box       obj       cls    labels  img_size\n",
            "      6/39     14.1G   0.04518   0.03355  0.006779        55       640: 100% 79/79 [01:37<00:00,  1.23s/it]\n",
            "               Class     Images     Labels          P          R     mAP@.5 mAP@.5:.95: 100% 9/9 [00:07<00:00,  1.14it/s]\n",
            "                 all        270        597      0.482      0.425      0.442      0.193\n",
            "\n",
            "     Epoch   gpu_mem       box       obj       cls    labels  img_size\n",
            "      7/39     14.1G   0.04361   0.03258  0.004839        64       640: 100% 79/79 [01:37<00:00,  1.24s/it]\n",
            "               Class     Images     Labels          P          R     mAP@.5 mAP@.5:.95: 100% 9/9 [00:07<00:00,  1.16it/s]\n",
            "                 all        270        597      0.542      0.629      0.618      0.288\n",
            "\n",
            "     Epoch   gpu_mem       box       obj       cls    labels  img_size\n",
            "      8/39     14.1G   0.04172   0.03264  0.004799        60       640: 100% 79/79 [01:37<00:00,  1.23s/it]\n",
            "               Class     Images     Labels          P          R     mAP@.5 mAP@.5:.95: 100% 9/9 [00:07<00:00,  1.16it/s]\n",
            "                 all        270        597      0.686      0.525      0.597      0.275\n",
            "\n",
            "     Epoch   gpu_mem       box       obj       cls    labels  img_size\n",
            "      9/39     14.1G   0.04167   0.03304   0.00371        57       640: 100% 79/79 [01:37<00:00,  1.23s/it]\n",
            "               Class     Images     Labels          P          R     mAP@.5 mAP@.5:.95: 100% 9/9 [00:07<00:00,  1.17it/s]\n",
            "                 all        270        597      0.687      0.552       0.63      0.289\n",
            "\n",
            "     Epoch   gpu_mem       box       obj       cls    labels  img_size\n",
            "     10/39     14.1G    0.0405   0.03207   0.00399        59       640: 100% 79/79 [01:37<00:00,  1.24s/it]\n",
            "               Class     Images     Labels          P          R     mAP@.5 mAP@.5:.95: 100% 9/9 [00:07<00:00,  1.17it/s]\n",
            "                 all        270        597      0.683      0.632      0.718      0.363\n",
            "\n",
            "     Epoch   gpu_mem       box       obj       cls    labels  img_size\n",
            "     11/39     14.1G   0.03925   0.03248  0.003691        73       640: 100% 79/79 [01:37<00:00,  1.23s/it]\n",
            "               Class     Images     Labels          P          R     mAP@.5 mAP@.5:.95: 100% 9/9 [00:07<00:00,  1.15it/s]\n",
            "                 all        270        597      0.515      0.461      0.465      0.179\n",
            "\n",
            "     Epoch   gpu_mem       box       obj       cls    labels  img_size\n",
            "     12/39     14.1G   0.03818   0.03196  0.003564        47       640: 100% 79/79 [01:37<00:00,  1.23s/it]\n",
            "               Class     Images     Labels          P          R     mAP@.5 mAP@.5:.95: 100% 9/9 [00:07<00:00,  1.17it/s]\n",
            "                 all        270        597      0.518      0.594      0.564      0.252\n",
            "\n",
            "     Epoch   gpu_mem       box       obj       cls    labels  img_size\n",
            "     13/39     14.1G   0.03792   0.03158  0.002931        60       640: 100% 79/79 [01:37<00:00,  1.23s/it]\n",
            "               Class     Images     Labels          P          R     mAP@.5 mAP@.5:.95: 100% 9/9 [00:07<00:00,  1.16it/s]\n",
            "                 all        270        597      0.641      0.658      0.676      0.314\n",
            "\n",
            "     Epoch   gpu_mem       box       obj       cls    labels  img_size\n",
            "     14/39     14.1G   0.03763   0.03102  0.002782        69       640: 100% 79/79 [01:37<00:00,  1.23s/it]\n",
            "               Class     Images     Labels          P          R     mAP@.5 mAP@.5:.95: 100% 9/9 [00:07<00:00,  1.17it/s]\n",
            "                 all        270        597       0.47      0.402      0.411      0.176\n",
            "\n",
            "     Epoch   gpu_mem       box       obj       cls    labels  img_size\n",
            "     15/39     14.1G   0.03806   0.03137  0.002889        53       640: 100% 79/79 [01:37<00:00,  1.23s/it]\n",
            "               Class     Images     Labels          P          R     mAP@.5 mAP@.5:.95: 100% 9/9 [00:07<00:00,  1.16it/s]\n",
            "                 all        270        597      0.656      0.674      0.715      0.358\n",
            "\n",
            "     Epoch   gpu_mem       box       obj       cls    labels  img_size\n",
            "     16/39     14.1G   0.03685   0.03101  0.002722        60       640: 100% 79/79 [01:37<00:00,  1.23s/it]\n",
            "               Class     Images     Labels          P          R     mAP@.5 mAP@.5:.95: 100% 9/9 [00:07<00:00,  1.17it/s]\n",
            "                 all        270        597      0.648       0.66      0.701       0.35\n",
            "\n",
            "     Epoch   gpu_mem       box       obj       cls    labels  img_size\n",
            "     17/39     14.1G   0.03618   0.03039  0.002961        50       640: 100% 79/79 [01:37<00:00,  1.23s/it]\n",
            "               Class     Images     Labels          P          R     mAP@.5 mAP@.5:.95: 100% 9/9 [00:07<00:00,  1.16it/s]\n",
            "                 all        270        597      0.665      0.722      0.755      0.406\n",
            "\n",
            "     Epoch   gpu_mem       box       obj       cls    labels  img_size\n",
            "     18/39     14.1G   0.03513   0.03106  0.002979        65       640: 100% 79/79 [01:37<00:00,  1.23s/it]\n",
            "               Class     Images     Labels          P          R     mAP@.5 mAP@.5:.95: 100% 9/9 [00:07<00:00,  1.17it/s]\n",
            "                 all        270        597      0.693      0.639      0.697       0.36\n",
            "\n",
            "     Epoch   gpu_mem       box       obj       cls    labels  img_size\n",
            "     19/39     14.1G   0.03471   0.02989  0.002634        63       640: 100% 79/79 [01:37<00:00,  1.23s/it]\n",
            "               Class     Images     Labels          P          R     mAP@.5 mAP@.5:.95: 100% 9/9 [00:07<00:00,  1.16it/s]\n",
            "                 all        270        597       0.72      0.679       0.75      0.399\n",
            "\n",
            "     Epoch   gpu_mem       box       obj       cls    labels  img_size\n",
            "     20/39     14.1G   0.03558   0.03046  0.002602        44       640: 100% 79/79 [01:37<00:00,  1.23s/it]\n",
            "               Class     Images     Labels          P          R     mAP@.5 mAP@.5:.95: 100% 9/9 [00:07<00:00,  1.16it/s]\n",
            "                 all        270        597      0.652      0.723      0.738       0.39\n",
            "\n",
            "     Epoch   gpu_mem       box       obj       cls    labels  img_size\n",
            "     21/39     14.1G   0.03471   0.02963  0.001934        52       640: 100% 79/79 [01:37<00:00,  1.23s/it]\n",
            "               Class     Images     Labels          P          R     mAP@.5 mAP@.5:.95: 100% 9/9 [00:07<00:00,  1.17it/s]\n",
            "                 all        270        597      0.641      0.743      0.742      0.382\n",
            "\n",
            "     Epoch   gpu_mem       box       obj       cls    labels  img_size\n",
            "     22/39     14.1G    0.0336   0.02939  0.001824        62       640: 100% 79/79 [01:37<00:00,  1.23s/it]\n",
            "               Class     Images     Labels          P          R     mAP@.5 mAP@.5:.95: 100% 9/9 [00:07<00:00,  1.17it/s]\n",
            "                 all        270        597      0.662      0.768      0.771      0.405\n",
            "\n",
            "     Epoch   gpu_mem       box       obj       cls    labels  img_size\n",
            "     23/39     14.1G    0.0333   0.02904  0.002386        39       640: 100% 79/79 [01:37<00:00,  1.23s/it]\n",
            "               Class     Images     Labels          P          R     mAP@.5 mAP@.5:.95: 100% 9/9 [00:07<00:00,  1.16it/s]\n",
            "                 all        270        597      0.712      0.681      0.722      0.386\n",
            "\n",
            "     Epoch   gpu_mem       box       obj       cls    labels  img_size\n",
            "     24/39     14.1G   0.03344   0.02923  0.001887        50       640: 100% 79/79 [01:37<00:00,  1.23s/it]\n",
            "               Class     Images     Labels          P          R     mAP@.5 mAP@.5:.95: 100% 9/9 [00:07<00:00,  1.16it/s]\n",
            "                 all        270        597      0.685        0.7      0.739      0.391\n",
            "\n",
            "     Epoch   gpu_mem       box       obj       cls    labels  img_size\n",
            "     25/39     14.1G   0.03296   0.02927  0.001882        49       640: 100% 79/79 [01:37<00:00,  1.23s/it]\n",
            "               Class     Images     Labels          P          R     mAP@.5 mAP@.5:.95: 100% 9/9 [00:07<00:00,  1.17it/s]\n",
            "                 all        270        597      0.672      0.742       0.75      0.395\n",
            "\n",
            "     Epoch   gpu_mem       box       obj       cls    labels  img_size\n",
            "     26/39     14.1G   0.03257   0.02871  0.001774        54       640: 100% 79/79 [01:37<00:00,  1.24s/it]\n",
            "               Class     Images     Labels          P          R     mAP@.5 mAP@.5:.95: 100% 9/9 [00:07<00:00,  1.16it/s]\n",
            "                 all        270        597      0.663      0.757      0.738       0.39\n",
            "\n",
            "     Epoch   gpu_mem       box       obj       cls    labels  img_size\n",
            "     27/39     14.1G   0.03193   0.02869  0.001796        59       640: 100% 79/79 [01:37<00:00,  1.24s/it]\n",
            "               Class     Images     Labels          P          R     mAP@.5 mAP@.5:.95: 100% 9/9 [00:07<00:00,  1.17it/s]\n",
            "                 all        270        597      0.717      0.714      0.766      0.419\n",
            "\n",
            "     Epoch   gpu_mem       box       obj       cls    labels  img_size\n",
            "     28/39     14.1G   0.03138   0.02808  0.001481        46       640: 100% 79/79 [01:37<00:00,  1.23s/it]\n",
            "               Class     Images     Labels          P          R     mAP@.5 mAP@.5:.95: 100% 9/9 [00:07<00:00,  1.16it/s]\n",
            "                 all        270        597      0.666      0.768      0.763      0.423\n",
            "\n",
            "     Epoch   gpu_mem       box       obj       cls    labels  img_size\n",
            "     29/39     14.1G   0.03069   0.02832   0.00152        56       640: 100% 79/79 [01:37<00:00,  1.23s/it]\n",
            "               Class     Images     Labels          P          R     mAP@.5 mAP@.5:.95: 100% 9/9 [00:07<00:00,  1.16it/s]\n",
            "                 all        270        597       0.67      0.775      0.771      0.426\n",
            "\n",
            "     Epoch   gpu_mem       box       obj       cls    labels  img_size\n",
            "     30/39     14.1G   0.03065   0.02855  0.001446        51       640: 100% 79/79 [01:37<00:00,  1.23s/it]\n",
            "               Class     Images     Labels          P          R     mAP@.5 mAP@.5:.95: 100% 9/9 [00:07<00:00,  1.16it/s]\n",
            "                 all        270        597       0.71      0.733      0.757      0.408\n",
            "\n",
            "     Epoch   gpu_mem       box       obj       cls    labels  img_size\n",
            "     31/39     14.1G   0.02959   0.02653  0.001463        40       640: 100% 79/79 [01:37<00:00,  1.23s/it]\n",
            "               Class     Images     Labels          P          R     mAP@.5 mAP@.5:.95: 100% 9/9 [00:07<00:00,  1.17it/s]\n",
            "                 all        270        597      0.665      0.781      0.758      0.414\n",
            "\n",
            "     Epoch   gpu_mem       box       obj       cls    labels  img_size\n",
            "     32/39     14.1G   0.02986   0.02777  0.001115        67       640: 100% 79/79 [01:37<00:00,  1.23s/it]\n",
            "               Class     Images     Labels          P          R     mAP@.5 mAP@.5:.95: 100% 9/9 [00:07<00:00,  1.16it/s]\n",
            "                 all        270        597      0.743      0.722       0.77      0.423\n",
            "\n",
            "     Epoch   gpu_mem       box       obj       cls    labels  img_size\n",
            "     33/39     14.1G   0.02999   0.02752  0.001159        79       640: 100% 79/79 [01:37<00:00,  1.23s/it]\n",
            "               Class     Images     Labels          P          R     mAP@.5 mAP@.5:.95: 100% 9/9 [00:07<00:00,  1.16it/s]\n",
            "                 all        270        597      0.675      0.735       0.74      0.414\n",
            "\n",
            "     Epoch   gpu_mem       box       obj       cls    labels  img_size\n",
            "     34/39     14.1G   0.02918   0.02677  0.001347        46       640: 100% 79/79 [01:37<00:00,  1.23s/it]\n",
            "               Class     Images     Labels          P          R     mAP@.5 mAP@.5:.95: 100% 9/9 [00:07<00:00,  1.17it/s]\n",
            "                 all        270        597      0.719      0.728      0.743      0.413\n",
            "\n",
            "     Epoch   gpu_mem       box       obj       cls    labels  img_size\n",
            "     35/39     14.1G   0.02838   0.02703  0.001059        54       640: 100% 79/79 [01:37<00:00,  1.23s/it]\n",
            "               Class     Images     Labels          P          R     mAP@.5 mAP@.5:.95: 100% 9/9 [00:07<00:00,  1.17it/s]\n",
            "                 all        270        597      0.716      0.727      0.739      0.413\n",
            "\n",
            "     Epoch   gpu_mem       box       obj       cls    labels  img_size\n",
            "     36/39     14.1G   0.02859   0.02683  0.001105        53       640: 100% 79/79 [01:37<00:00,  1.23s/it]\n",
            "               Class     Images     Labels          P          R     mAP@.5 mAP@.5:.95: 100% 9/9 [00:07<00:00,  1.17it/s]\n",
            "                 all        270        597      0.678      0.755      0.742      0.424\n",
            "\n",
            "     Epoch   gpu_mem       box       obj       cls    labels  img_size\n",
            "     37/39     14.1G   0.02819    0.0263  0.001226        43       640: 100% 79/79 [01:37<00:00,  1.23s/it]\n",
            "               Class     Images     Labels          P          R     mAP@.5 mAP@.5:.95: 100% 9/9 [00:07<00:00,  1.17it/s]\n",
            "                 all        270        597      0.697      0.749      0.755      0.422\n",
            "\n",
            "     Epoch   gpu_mem       box       obj       cls    labels  img_size\n",
            "     38/39     14.1G   0.02766   0.02616 0.0009833        55       640: 100% 79/79 [01:37<00:00,  1.23s/it]\n",
            "               Class     Images     Labels          P          R     mAP@.5 mAP@.5:.95: 100% 9/9 [00:07<00:00,  1.17it/s]\n",
            "                 all        270        597      0.716      0.772      0.767      0.436\n",
            "\n",
            "     Epoch   gpu_mem       box       obj       cls    labels  img_size\n",
            "     39/39     14.1G   0.02661   0.02555 0.0009587        50       640: 100% 79/79 [01:37<00:00,  1.23s/it]\n",
            "               Class     Images     Labels          P          R     mAP@.5 mAP@.5:.95: 100% 9/9 [00:07<00:00,  1.16it/s]\n",
            "                 all        270        597      0.668      0.769      0.762      0.432\n",
            "\n",
            "40 epochs completed in 1.208 hours.\n",
            "Optimizer stripped from runs/train/yolo_surface_defect2/weights/last.pt, 173.2MB\n",
            "Optimizer stripped from runs/train/yolo_surface_defect2/weights/best.pt, 173.2MB\n",
            "\n",
            "Validating runs/train/yolo_surface_defect2/weights/best.pt...\n",
            "Fusing layers... \n",
            "Model Summary: 444 layers, 86207059 parameters, 0 gradients\n",
            "               Class     Images     Labels          P          R     mAP@.5 mAP@.5:.95: 100% 9/9 [00:09<00:00,  1.06s/it]\n",
            "                 all        270        597      0.716      0.772      0.767      0.436\n",
            "             crazing        270        140      0.498      0.507      0.448      0.146\n",
            "           inclusion        270        145      0.737      0.887      0.873      0.496\n",
            "             patches        270         98      0.857      0.888      0.944      0.618\n",
            "      pitted_surface        270         65      0.772      0.783      0.821       0.55\n",
            "     rolled-in_scale        270         74      0.529      0.689      0.577      0.211\n",
            "           scratches        270         75      0.905       0.88      0.937      0.597\n",
            "Results saved to \u001b[1mruns/train/yolo_surface_defect2\u001b[0m\n"
          ]
        }
      ]
    },
    {
      "cell_type": "code",
      "source": [
        "# saved in telegram\n",
        "!zip -r ../yolo_surface_defect2.zip /content/yolov5/runs/train/yolo_surface_defect2"
      ],
      "metadata": {
        "id": "VIcUCJ7mjGWl"
      },
      "execution_count": null,
      "outputs": []
    },
    {
      "cell_type": "code",
      "source": [
        "!python detect.py --source ../dataset/images/test/ --weights runs/train/yolo_surface_defect2/weights/best.pt --conf 0.25 --name yolo_surface_defect"
      ],
      "metadata": {
        "colab": {
          "base_uri": "https://localhost:8080/"
        },
        "id": "0i4qspMlKtXE",
        "outputId": "c8c5d817-377a-4e63-9b6d-d8cb36308c95"
      },
      "execution_count": null,
      "outputs": [
        {
          "output_type": "stream",
          "name": "stdout",
          "text": [
            "\u001b[34m\u001b[1mdetect: \u001b[0mweights=['runs/train/yolo_surface_defect2/weights/best.pt'], source=../dataset/images/test/, data=data/coco128.yaml, imgsz=[640, 640], conf_thres=0.25, iou_thres=0.45, max_det=1000, device=, view_img=False, save_txt=False, save_conf=False, save_crop=False, nosave=False, classes=None, agnostic_nms=False, augment=False, visualize=False, update=False, project=runs/detect, name=yolo_surface_defect, exist_ok=False, line_thickness=3, hide_labels=False, hide_conf=False, half=False, dnn=False\n",
            "YOLOv5 🚀 v6.1-21-ge6e36aa torch 1.10.0+cu111 CUDA:0 (Tesla T4, 15110MiB)\n",
            "\n",
            "Fusing layers... \n",
            "Model Summary: 444 layers, 86207059 parameters, 0 gradients\n",
            "image 1/270 /content/dataset/images/test/crazing_106.jpg: 640x640 3 crazings, Done. (0.093s)\n",
            "image 2/270 /content/dataset/images/test/crazing_109.jpg: 640x640 2 crazings, Done. (0.072s)\n",
            "image 3/270 /content/dataset/images/test/crazing_11.jpg: 640x640 1 crazing, Done. (0.053s)\n",
            "image 4/270 /content/dataset/images/test/crazing_114.jpg: 640x640 2 crazings, Done. (0.053s)\n",
            "image 5/270 /content/dataset/images/test/crazing_116.jpg: 640x640 Done. (0.053s)\n",
            "image 6/270 /content/dataset/images/test/crazing_123.jpg: 640x640 2 crazings, Done. (0.052s)\n",
            "image 7/270 /content/dataset/images/test/crazing_128.jpg: 640x640 1 crazing, Done. (0.051s)\n",
            "image 8/270 /content/dataset/images/test/crazing_135.jpg: 640x640 Done. (0.051s)\n",
            "image 9/270 /content/dataset/images/test/crazing_139.jpg: 640x640 1 crazing, Done. (0.052s)\n",
            "image 10/270 /content/dataset/images/test/crazing_15.jpg: 640x640 Done. (0.052s)\n",
            "image 11/270 /content/dataset/images/test/crazing_150.jpg: 640x640 1 crazing, Done. (0.053s)\n",
            "image 12/270 /content/dataset/images/test/crazing_155.jpg: 640x640 2 crazings, Done. (0.052s)\n",
            "image 13/270 /content/dataset/images/test/crazing_168.jpg: 640x640 1 crazing, Done. (0.051s)\n",
            "image 14/270 /content/dataset/images/test/crazing_180.jpg: 640x640 1 crazing, Done. (0.051s)\n",
            "image 15/270 /content/dataset/images/test/crazing_190.jpg: 640x640 2 crazings, Done. (0.051s)\n",
            "image 16/270 /content/dataset/images/test/crazing_201.jpg: 640x640 1 crazing, Done. (0.052s)\n",
            "image 17/270 /content/dataset/images/test/crazing_211.jpg: 640x640 1 crazing, Done. (0.052s)\n",
            "image 18/270 /content/dataset/images/test/crazing_224.jpg: 640x640 3 crazings, Done. (0.053s)\n",
            "image 19/270 /content/dataset/images/test/crazing_231.jpg: 640x640 2 crazings, Done. (0.053s)\n",
            "image 20/270 /content/dataset/images/test/crazing_237.jpg: 640x640 2 crazings, Done. (0.052s)\n",
            "image 21/270 /content/dataset/images/test/crazing_247.jpg: 640x640 2 crazings, Done. (0.052s)\n",
            "image 22/270 /content/dataset/images/test/crazing_25.jpg: 640x640 1 crazing, Done. (0.051s)\n",
            "image 23/270 /content/dataset/images/test/crazing_282.jpg: 640x640 2 crazings, Done. (0.052s)\n",
            "image 24/270 /content/dataset/images/test/crazing_294.jpg: 640x640 1 crazing, Done. (0.052s)\n",
            "image 25/270 /content/dataset/images/test/crazing_36.jpg: 640x640 1 crazing, Done. (0.051s)\n",
            "image 26/270 /content/dataset/images/test/crazing_44.jpg: 640x640 2 crazings, Done. (0.052s)\n",
            "image 27/270 /content/dataset/images/test/crazing_48.jpg: 640x640 1 crazing, Done. (0.052s)\n",
            "image 28/270 /content/dataset/images/test/crazing_50.jpg: 640x640 2 crazings, Done. (0.053s)\n",
            "image 29/270 /content/dataset/images/test/crazing_61.jpg: 640x640 Done. (0.052s)\n",
            "image 30/270 /content/dataset/images/test/crazing_76.jpg: 640x640 1 crazing, Done. (0.052s)\n",
            "image 31/270 /content/dataset/images/test/crazing_81.jpg: 640x640 Done. (0.052s)\n",
            "image 32/270 /content/dataset/images/test/crazing_84.jpg: 640x640 2 crazings, Done. (0.052s)\n",
            "image 33/270 /content/dataset/images/test/crazing_90.jpg: 640x640 2 crazings, Done. (0.052s)\n",
            "image 34/270 /content/dataset/images/test/inclusion_10.jpg: 640x640 6 inclusions, Done. (0.052s)\n",
            "image 35/270 /content/dataset/images/test/inclusion_101.jpg: 640x640 1 inclusion, Done. (0.052s)\n",
            "image 36/270 /content/dataset/images/test/inclusion_105.jpg: 640x640 3 inclusions, Done. (0.054s)\n",
            "image 37/270 /content/dataset/images/test/inclusion_114.jpg: 640x640 6 inclusions, Done. (0.053s)\n",
            "image 38/270 /content/dataset/images/test/inclusion_116.jpg: 640x640 4 inclusions, Done. (0.052s)\n",
            "image 39/270 /content/dataset/images/test/inclusion_12.jpg: 640x640 12 inclusions, Done. (0.051s)\n",
            "image 40/270 /content/dataset/images/test/inclusion_122.jpg: 640x640 6 inclusions, Done. (0.050s)\n",
            "image 41/270 /content/dataset/images/test/inclusion_125.jpg: 640x640 7 inclusions, Done. (0.052s)\n",
            "image 42/270 /content/dataset/images/test/inclusion_127.jpg: 640x640 3 inclusions, Done. (0.051s)\n",
            "image 43/270 /content/dataset/images/test/inclusion_135.jpg: 640x640 2 inclusions, Done. (0.052s)\n",
            "image 44/270 /content/dataset/images/test/inclusion_150.jpg: 640x640 3 inclusions, Done. (0.052s)\n",
            "image 45/270 /content/dataset/images/test/inclusion_152.jpg: 640x640 3 inclusions, Done. (0.053s)\n",
            "image 46/270 /content/dataset/images/test/inclusion_154.jpg: 640x640 6 inclusions, Done. (0.053s)\n",
            "image 47/270 /content/dataset/images/test/inclusion_169.jpg: 640x640 3 inclusions, Done. (0.052s)\n",
            "image 48/270 /content/dataset/images/test/inclusion_192.jpg: 640x640 4 inclusions, Done. (0.052s)\n",
            "image 49/270 /content/dataset/images/test/inclusion_193.jpg: 640x640 4 inclusions, Done. (0.051s)\n",
            "image 50/270 /content/dataset/images/test/inclusion_199.jpg: 640x640 2 inclusions, Done. (0.051s)\n",
            "image 51/270 /content/dataset/images/test/inclusion_200.jpg: 640x640 2 inclusions, Done. (0.054s)\n",
            "image 52/270 /content/dataset/images/test/inclusion_218.jpg: 640x640 3 inclusions, Done. (0.051s)\n",
            "image 53/270 /content/dataset/images/test/inclusion_22.jpg: 640x640 5 inclusions, Done. (0.052s)\n",
            "image 54/270 /content/dataset/images/test/inclusion_228.jpg: 640x640 1 inclusion, Done. (0.053s)\n",
            "image 55/270 /content/dataset/images/test/inclusion_231.jpg: 640x640 3 inclusions, Done. (0.052s)\n",
            "image 56/270 /content/dataset/images/test/inclusion_232.jpg: 640x640 5 inclusions, Done. (0.052s)\n",
            "image 57/270 /content/dataset/images/test/inclusion_235.jpg: 640x640 4 inclusions, Done. (0.052s)\n",
            "image 58/270 /content/dataset/images/test/inclusion_239.jpg: 640x640 2 inclusions, Done. (0.051s)\n",
            "image 59/270 /content/dataset/images/test/inclusion_245.jpg: 640x640 3 inclusions, Done. (0.052s)\n",
            "image 60/270 /content/dataset/images/test/inclusion_255.jpg: 640x640 2 inclusions, Done. (0.052s)\n",
            "image 61/270 /content/dataset/images/test/inclusion_256.jpg: 640x640 1 inclusion, Done. (0.052s)\n",
            "image 62/270 /content/dataset/images/test/inclusion_27.jpg: 640x640 13 inclusions, Done. (0.053s)\n",
            "image 63/270 /content/dataset/images/test/inclusion_275.jpg: 640x640 7 inclusions, Done. (0.052s)\n",
            "image 64/270 /content/dataset/images/test/inclusion_279.jpg: 640x640 2 inclusions, Done. (0.053s)\n",
            "image 65/270 /content/dataset/images/test/inclusion_280.jpg: 640x640 1 inclusion, Done. (0.053s)\n",
            "image 66/270 /content/dataset/images/test/inclusion_281.jpg: 640x640 2 inclusions, Done. (0.053s)\n",
            "image 67/270 /content/dataset/images/test/inclusion_282.jpg: 640x640 3 inclusions, Done. (0.052s)\n",
            "image 68/270 /content/dataset/images/test/inclusion_291.jpg: 640x640 5 inclusions, Done. (0.051s)\n",
            "image 69/270 /content/dataset/images/test/inclusion_295.jpg: 640x640 3 inclusions, Done. (0.051s)\n",
            "image 70/270 /content/dataset/images/test/inclusion_35.jpg: 640x640 3 inclusions, Done. (0.052s)\n",
            "image 71/270 /content/dataset/images/test/inclusion_39.jpg: 640x640 4 inclusions, Done. (0.052s)\n",
            "image 72/270 /content/dataset/images/test/inclusion_49.jpg: 640x640 2 inclusions, Done. (0.053s)\n",
            "image 73/270 /content/dataset/images/test/inclusion_50.jpg: 640x640 2 inclusions, Done. (0.053s)\n",
            "image 74/270 /content/dataset/images/test/inclusion_53.jpg: 640x640 2 inclusions, Done. (0.052s)\n",
            "image 75/270 /content/dataset/images/test/inclusion_60.jpg: 640x640 6 inclusions, Done. (0.052s)\n",
            "image 76/270 /content/dataset/images/test/inclusion_7.jpg: 640x640 2 inclusions, Done. (0.051s)\n",
            "image 77/270 /content/dataset/images/test/inclusion_73.jpg: 640x640 2 inclusions, Done. (0.052s)\n",
            "image 78/270 /content/dataset/images/test/inclusion_80.jpg: 640x640 4 inclusions, Done. (0.052s)\n",
            "image 79/270 /content/dataset/images/test/inclusion_85.jpg: 640x640 6 inclusions, Done. (0.052s)\n",
            "image 80/270 /content/dataset/images/test/inclusion_9.jpg: 640x640 1 inclusion, Done. (0.052s)\n",
            "image 81/270 /content/dataset/images/test/inclusion_90.jpg: 640x640 1 inclusion, Done. (0.052s)\n",
            "image 82/270 /content/dataset/images/test/inclusion_91.jpg: 640x640 6 inclusions, Done. (0.053s)\n",
            "image 83/270 /content/dataset/images/test/inclusion_95.jpg: 640x640 3 inclusions, Done. (0.052s)\n",
            "image 84/270 /content/dataset/images/test/patches_106.jpg: 640x640 1 patches, Done. (0.052s)\n",
            "image 85/270 /content/dataset/images/test/patches_107.jpg: 640x640 2 patchess, Done. (0.052s)\n",
            "image 86/270 /content/dataset/images/test/patches_109.jpg: 640x640 3 patchess, Done. (0.051s)\n",
            "image 87/270 /content/dataset/images/test/patches_113.jpg: 640x640 2 patchess, Done. (0.052s)\n",
            "image 88/270 /content/dataset/images/test/patches_116.jpg: 640x640 3 patchess, Done. (0.052s)\n",
            "image 89/270 /content/dataset/images/test/patches_118.jpg: 640x640 3 patchess, Done. (0.052s)\n",
            "image 90/270 /content/dataset/images/test/patches_127.jpg: 640x640 3 patchess, Done. (0.052s)\n",
            "image 91/270 /content/dataset/images/test/patches_129.jpg: 640x640 1 patches, Done. (0.052s)\n",
            "image 92/270 /content/dataset/images/test/patches_135.jpg: 640x640 1 patches, Done. (0.052s)\n",
            "image 93/270 /content/dataset/images/test/patches_136.jpg: 640x640 1 patches, Done. (0.052s)\n",
            "image 94/270 /content/dataset/images/test/patches_142.jpg: 640x640 4 patchess, Done. (0.052s)\n",
            "image 95/270 /content/dataset/images/test/patches_159.jpg: 640x640 1 inclusion, 2 patchess, Done. (0.052s)\n",
            "image 96/270 /content/dataset/images/test/patches_162.jpg: 640x640 2 patchess, Done. (0.050s)\n",
            "image 97/270 /content/dataset/images/test/patches_166.jpg: 640x640 3 patchess, Done. (0.052s)\n",
            "image 98/270 /content/dataset/images/test/patches_168.jpg: 640x640 5 inclusions, 4 patchess, Done. (0.052s)\n",
            "image 99/270 /content/dataset/images/test/patches_176.jpg: 640x640 3 inclusions, 2 patchess, Done. (0.052s)\n",
            "image 100/270 /content/dataset/images/test/patches_182.jpg: 640x640 1 inclusion, 3 patchess, Done. (0.052s)\n",
            "image 101/270 /content/dataset/images/test/patches_187.jpg: 640x640 2 inclusions, 5 patchess, Done. (0.051s)\n",
            "image 102/270 /content/dataset/images/test/patches_20.jpg: 640x640 2 patchess, Done. (0.052s)\n",
            "image 103/270 /content/dataset/images/test/patches_202.jpg: 640x640 1 inclusion, 4 patchess, Done. (0.052s)\n",
            "image 104/270 /content/dataset/images/test/patches_207.jpg: 640x640 4 patchess, Done. (0.052s)\n",
            "image 105/270 /content/dataset/images/test/patches_208.jpg: 640x640 3 patchess, Done. (0.053s)\n",
            "image 106/270 /content/dataset/images/test/patches_209.jpg: 640x640 1 inclusion, 3 patchess, Done. (0.052s)\n",
            "image 107/270 /content/dataset/images/test/patches_222.jpg: 640x640 1 patches, Done. (0.052s)\n",
            "image 108/270 /content/dataset/images/test/patches_224.jpg: 640x640 3 patchess, Done. (0.053s)\n",
            "image 109/270 /content/dataset/images/test/patches_229.jpg: 640x640 3 patchess, Done. (0.053s)\n",
            "image 110/270 /content/dataset/images/test/patches_233.jpg: 640x640 4 patchess, Done. (0.053s)\n",
            "image 111/270 /content/dataset/images/test/patches_237.jpg: 640x640 3 patchess, Done. (0.052s)\n",
            "image 112/270 /content/dataset/images/test/patches_239.jpg: 640x640 2 patchess, Done. (0.052s)\n",
            "image 113/270 /content/dataset/images/test/patches_249.jpg: 640x640 3 patchess, Done. (0.052s)\n",
            "image 114/270 /content/dataset/images/test/patches_25.jpg: 640x640 5 patchess, Done. (0.052s)\n",
            "image 115/270 /content/dataset/images/test/patches_257.jpg: 640x640 6 patchess, Done. (0.052s)\n",
            "image 116/270 /content/dataset/images/test/patches_275.jpg: 640x640 2 patchess, Done. (0.053s)\n",
            "image 117/270 /content/dataset/images/test/patches_278.jpg: 640x640 1 patches, Done. (0.052s)\n",
            "image 118/270 /content/dataset/images/test/patches_281.jpg: 640x640 3 patchess, Done. (0.052s)\n",
            "image 119/270 /content/dataset/images/test/patches_282.jpg: 640x640 3 patchess, Done. (0.052s)\n",
            "image 120/270 /content/dataset/images/test/patches_286.jpg: 640x640 3 patchess, Done. (0.052s)\n",
            "image 121/270 /content/dataset/images/test/patches_288.jpg: 640x640 2 patchess, Done. (0.053s)\n",
            "image 122/270 /content/dataset/images/test/patches_29.jpg: 640x640 3 patchess, Done. (0.052s)\n",
            "image 123/270 /content/dataset/images/test/patches_290.jpg: 640x640 4 patchess, Done. (0.053s)\n",
            "image 124/270 /content/dataset/images/test/patches_30.jpg: 640x640 3 patchess, Done. (0.053s)\n",
            "image 125/270 /content/dataset/images/test/patches_33.jpg: 640x640 3 patchess, Done. (0.052s)\n",
            "image 126/270 /content/dataset/images/test/patches_39.jpg: 640x640 1 patches, Done. (0.052s)\n",
            "image 127/270 /content/dataset/images/test/patches_63.jpg: 640x640 1 patches, Done. (0.051s)\n",
            "image 128/270 /content/dataset/images/test/patches_67.jpg: 640x640 3 patchess, Done. (0.052s)\n",
            "image 129/270 /content/dataset/images/test/patches_72.jpg: 640x640 2 patchess, Done. (0.052s)\n",
            "image 130/270 /content/dataset/images/test/patches_74.jpg: 640x640 1 inclusion, 3 patchess, Done. (0.052s)\n",
            "image 131/270 /content/dataset/images/test/patches_75.jpg: 640x640 2 patchess, Done. (0.052s)\n",
            "image 132/270 /content/dataset/images/test/patches_77.jpg: 640x640 3 patchess, Done. (0.053s)\n",
            "image 133/270 /content/dataset/images/test/patches_90.jpg: 640x640 3 patchess, Done. (0.054s)\n",
            "image 134/270 /content/dataset/images/test/patches_91.jpg: 640x640 4 patchess, Done. (0.053s)\n",
            "image 135/270 /content/dataset/images/test/pitted_surface_11.jpg: 640x640 1 pitted_surface, Done. (0.053s)\n",
            "image 136/270 /content/dataset/images/test/pitted_surface_112.jpg: 640x640 1 pitted_surface, Done. (0.053s)\n",
            "image 137/270 /content/dataset/images/test/pitted_surface_123.jpg: 640x640 1 pitted_surface, Done. (0.052s)\n",
            "image 138/270 /content/dataset/images/test/pitted_surface_147.jpg: 640x640 1 pitted_surface, Done. (0.051s)\n",
            "image 139/270 /content/dataset/images/test/pitted_surface_148.jpg: 640x640 1 pitted_surface, Done. (0.052s)\n",
            "image 140/270 /content/dataset/images/test/pitted_surface_153.jpg: 640x640 1 pitted_surface, Done. (0.053s)\n",
            "image 141/270 /content/dataset/images/test/pitted_surface_159.jpg: 640x640 1 patches, 1 pitted_surface, Done. (0.053s)\n",
            "image 142/270 /content/dataset/images/test/pitted_surface_164.jpg: 640x640 1 pitted_surface, Done. (0.052s)\n",
            "image 143/270 /content/dataset/images/test/pitted_surface_168.jpg: 640x640 1 pitted_surface, Done. (0.053s)\n",
            "image 144/270 /content/dataset/images/test/pitted_surface_175.jpg: 640x640 1 patches, 2 pitted_surfaces, Done. (0.053s)\n",
            "image 145/270 /content/dataset/images/test/pitted_surface_178.jpg: 640x640 1 pitted_surface, Done. (0.052s)\n",
            "image 146/270 /content/dataset/images/test/pitted_surface_196.jpg: 640x640 1 pitted_surface, Done. (0.052s)\n",
            "image 147/270 /content/dataset/images/test/pitted_surface_20.jpg: 640x640 2 pitted_surfaces, Done. (0.052s)\n",
            "image 148/270 /content/dataset/images/test/pitted_surface_225.jpg: 640x640 1 pitted_surface, Done. (0.052s)\n",
            "image 149/270 /content/dataset/images/test/pitted_surface_231.jpg: 640x640 1 pitted_surface, Done. (0.052s)\n",
            "image 150/270 /content/dataset/images/test/pitted_surface_236.jpg: 640x640 1 pitted_surface, Done. (0.052s)\n",
            "image 151/270 /content/dataset/images/test/pitted_surface_257.jpg: 640x640 1 pitted_surface, Done. (0.053s)\n",
            "image 152/270 /content/dataset/images/test/pitted_surface_267.jpg: 640x640 1 pitted_surface, Done. (0.053s)\n",
            "image 153/270 /content/dataset/images/test/pitted_surface_276.jpg: 640x640 2 patchess, 1 pitted_surface, Done. (0.053s)\n",
            "image 154/270 /content/dataset/images/test/pitted_surface_280.jpg: 640x640 1 pitted_surface, Done. (0.053s)\n",
            "image 155/270 /content/dataset/images/test/pitted_surface_288.jpg: 640x640 1 pitted_surface, Done. (0.052s)\n",
            "image 156/270 /content/dataset/images/test/pitted_surface_292.jpg: 640x640 2 patchess, 1 pitted_surface, Done. (0.052s)\n",
            "image 157/270 /content/dataset/images/test/pitted_surface_299.jpg: 640x640 1 pitted_surface, Done. (0.051s)\n",
            "image 158/270 /content/dataset/images/test/pitted_surface_44.jpg: 640x640 1 pitted_surface, Done. (0.053s)\n",
            "image 159/270 /content/dataset/images/test/pitted_surface_60.jpg: 640x640 1 pitted_surface, Done. (0.052s)\n",
            "image 160/270 /content/dataset/images/test/pitted_surface_69.jpg: 640x640 1 pitted_surface, Done. (0.052s)\n",
            "image 161/270 /content/dataset/images/test/pitted_surface_70.jpg: 640x640 1 pitted_surface, Done. (0.053s)\n",
            "image 162/270 /content/dataset/images/test/pitted_surface_71.jpg: 640x640 1 pitted_surface, Done. (0.054s)\n",
            "image 163/270 /content/dataset/images/test/pitted_surface_72.jpg: 640x640 1 pitted_surface, Done. (0.053s)\n",
            "image 164/270 /content/dataset/images/test/pitted_surface_82.jpg: 640x640 1 pitted_surface, Done. (0.052s)\n",
            "image 165/270 /content/dataset/images/test/pitted_surface_87.jpg: 640x640 1 pitted_surface, Done. (0.052s)\n",
            "image 166/270 /content/dataset/images/test/pitted_surface_91.jpg: 640x640 1 pitted_surface, Done. (0.052s)\n",
            "image 167/270 /content/dataset/images/test/pitted_surface_92.jpg: 640x640 1 pitted_surface, Done. (0.052s)\n",
            "image 168/270 /content/dataset/images/test/pitted_surface_93.jpg: 640x640 1 pitted_surface, Done. (0.053s)\n",
            "image 169/270 /content/dataset/images/test/pitted_surface_99.jpg: 640x640 1 pitted_surface, Done. (0.053s)\n",
            "image 170/270 /content/dataset/images/test/rolled-in_scale_104.jpg: 640x640 2 rolled-in_scales, Done. (0.052s)\n",
            "image 171/270 /content/dataset/images/test/rolled-in_scale_107.jpg: 640x640 1 rolled-in_scale, Done. (0.053s)\n",
            "image 172/270 /content/dataset/images/test/rolled-in_scale_108.jpg: 640x640 1 rolled-in_scale, Done. (0.054s)\n",
            "image 173/270 /content/dataset/images/test/rolled-in_scale_11.jpg: 640x640 2 rolled-in_scales, Done. (0.053s)\n",
            "image 174/270 /content/dataset/images/test/rolled-in_scale_111.jpg: 640x640 Done. (0.053s)\n",
            "image 175/270 /content/dataset/images/test/rolled-in_scale_116.jpg: 640x640 1 rolled-in_scale, Done. (0.052s)\n",
            "image 176/270 /content/dataset/images/test/rolled-in_scale_118.jpg: 640x640 3 rolled-in_scales, Done. (0.051s)\n",
            "image 177/270 /content/dataset/images/test/rolled-in_scale_126.jpg: 640x640 3 rolled-in_scales, Done. (0.052s)\n",
            "image 178/270 /content/dataset/images/test/rolled-in_scale_127.jpg: 640x640 1 rolled-in_scale, Done. (0.052s)\n",
            "image 179/270 /content/dataset/images/test/rolled-in_scale_132.jpg: 640x640 2 rolled-in_scales, Done. (0.052s)\n",
            "image 180/270 /content/dataset/images/test/rolled-in_scale_150.jpg: 640x640 3 rolled-in_scales, Done. (0.052s)\n",
            "image 181/270 /content/dataset/images/test/rolled-in_scale_158.jpg: 640x640 1 rolled-in_scale, Done. (0.053s)\n",
            "image 182/270 /content/dataset/images/test/rolled-in_scale_159.jpg: 640x640 1 rolled-in_scale, Done. (0.053s)\n",
            "image 183/270 /content/dataset/images/test/rolled-in_scale_171.jpg: 640x640 1 rolled-in_scale, Done. (0.054s)\n",
            "image 184/270 /content/dataset/images/test/rolled-in_scale_172.jpg: 640x640 2 rolled-in_scales, Done. (0.053s)\n",
            "image 185/270 /content/dataset/images/test/rolled-in_scale_179.jpg: 640x640 2 rolled-in_scales, Done. (0.053s)\n",
            "image 186/270 /content/dataset/images/test/rolled-in_scale_189.jpg: 640x640 2 rolled-in_scales, Done. (0.052s)\n",
            "image 187/270 /content/dataset/images/test/rolled-in_scale_198.jpg: 640x640 2 rolled-in_scales, Done. (0.051s)\n",
            "image 188/270 /content/dataset/images/test/rolled-in_scale_211.jpg: 640x640 2 rolled-in_scales, Done. (0.052s)\n",
            "image 189/270 /content/dataset/images/test/rolled-in_scale_212.jpg: 640x640 2 rolled-in_scales, Done. (0.052s)\n",
            "image 190/270 /content/dataset/images/test/rolled-in_scale_216.jpg: 640x640 3 rolled-in_scales, Done. (0.053s)\n",
            "image 191/270 /content/dataset/images/test/rolled-in_scale_218.jpg: 640x640 Done. (0.053s)\n",
            "image 192/270 /content/dataset/images/test/rolled-in_scale_221.jpg: 640x640 2 rolled-in_scales, Done. (0.054s)\n",
            "image 193/270 /content/dataset/images/test/rolled-in_scale_229.jpg: 640x640 1 rolled-in_scale, Done. (0.053s)\n",
            "image 194/270 /content/dataset/images/test/rolled-in_scale_230.jpg: 640x640 2 rolled-in_scales, Done. (0.053s)\n",
            "image 195/270 /content/dataset/images/test/rolled-in_scale_233.jpg: 640x640 1 rolled-in_scale, Done. (0.053s)\n",
            "image 196/270 /content/dataset/images/test/rolled-in_scale_236.jpg: 640x640 1 rolled-in_scale, Done. (0.052s)\n",
            "image 197/270 /content/dataset/images/test/rolled-in_scale_240.jpg: 640x640 1 rolled-in_scale, Done. (0.052s)\n",
            "image 198/270 /content/dataset/images/test/rolled-in_scale_245.jpg: 640x640 2 rolled-in_scales, Done. (0.052s)\n",
            "image 199/270 /content/dataset/images/test/rolled-in_scale_250.jpg: 640x640 3 rolled-in_scales, Done. (0.052s)\n",
            "image 200/270 /content/dataset/images/test/rolled-in_scale_252.jpg: 640x640 Done. (0.052s)\n",
            "image 201/270 /content/dataset/images/test/rolled-in_scale_255.jpg: 640x640 4 rolled-in_scales, Done. (0.053s)\n",
            "image 202/270 /content/dataset/images/test/rolled-in_scale_261.jpg: 640x640 3 rolled-in_scales, Done. (0.053s)\n",
            "image 203/270 /content/dataset/images/test/rolled-in_scale_267.jpg: 640x640 3 rolled-in_scales, Done. (0.054s)\n",
            "image 204/270 /content/dataset/images/test/rolled-in_scale_270.jpg: 640x640 2 rolled-in_scales, Done. (0.053s)\n",
            "image 205/270 /content/dataset/images/test/rolled-in_scale_282.jpg: 640x640 2 rolled-in_scales, Done. (0.054s)\n",
            "image 206/270 /content/dataset/images/test/rolled-in_scale_291.jpg: 640x640 2 rolled-in_scales, Done. (0.053s)\n",
            "image 207/270 /content/dataset/images/test/rolled-in_scale_294.jpg: 640x640 Done. (0.053s)\n",
            "image 208/270 /content/dataset/images/test/rolled-in_scale_295.jpg: 640x640 1 rolled-in_scale, Done. (0.053s)\n",
            "image 209/270 /content/dataset/images/test/rolled-in_scale_38.jpg: 640x640 4 rolled-in_scales, Done. (0.051s)\n",
            "image 210/270 /content/dataset/images/test/rolled-in_scale_40.jpg: 640x640 4 rolled-in_scales, Done. (0.052s)\n",
            "image 211/270 /content/dataset/images/test/rolled-in_scale_45.jpg: 640x640 4 rolled-in_scales, Done. (0.052s)\n",
            "image 212/270 /content/dataset/images/test/rolled-in_scale_5.jpg: 640x640 1 rolled-in_scale, Done. (0.052s)\n",
            "image 213/270 /content/dataset/images/test/rolled-in_scale_50.jpg: 640x640 3 rolled-in_scales, Done. (0.053s)\n",
            "image 214/270 /content/dataset/images/test/rolled-in_scale_61.jpg: 640x640 2 rolled-in_scales, Done. (0.052s)\n",
            "image 215/270 /content/dataset/images/test/rolled-in_scale_65.jpg: 640x640 2 rolled-in_scales, Done. (0.053s)\n",
            "image 216/270 /content/dataset/images/test/rolled-in_scale_67.jpg: 640x640 3 rolled-in_scales, Done. (0.053s)\n",
            "image 217/270 /content/dataset/images/test/rolled-in_scale_79.jpg: 640x640 3 rolled-in_scales, Done. (0.053s)\n",
            "image 218/270 /content/dataset/images/test/rolled-in_scale_8.jpg: 640x640 1 rolled-in_scale, Done. (0.053s)\n",
            "image 219/270 /content/dataset/images/test/rolled-in_scale_90.jpg: 640x640 3 rolled-in_scales, Done. (0.053s)\n",
            "image 220/270 /content/dataset/images/test/rolled-in_scale_91.jpg: 640x640 2 rolled-in_scales, Done. (0.052s)\n",
            "image 221/270 /content/dataset/images/test/rolled-in_scale_97.jpg: 640x640 3 rolled-in_scales, Done. (0.052s)\n",
            "image 222/270 /content/dataset/images/test/rolled-in_scale_99.jpg: 640x640 4 rolled-in_scales, Done. (0.052s)\n",
            "image 223/270 /content/dataset/images/test/scratches_10.jpg: 640x640 5 scratchess, Done. (0.052s)\n",
            "image 224/270 /content/dataset/images/test/scratches_102.jpg: 640x640 1 scratches, Done. (0.052s)\n",
            "image 225/270 /content/dataset/images/test/scratches_104.jpg: 640x640 1 scratches, Done. (0.052s)\n",
            "image 226/270 /content/dataset/images/test/scratches_105.jpg: 640x640 1 scratches, Done. (0.053s)\n",
            "image 227/270 /content/dataset/images/test/scratches_108.jpg: 640x640 3 inclusions, 1 scratches, Done. (0.054s)\n",
            "image 228/270 /content/dataset/images/test/scratches_111.jpg: 640x640 3 inclusions, 1 scratches, Done. (0.054s)\n",
            "image 229/270 /content/dataset/images/test/scratches_127.jpg: 640x640 1 inclusion, 1 scratches, Done. (0.054s)\n",
            "image 230/270 /content/dataset/images/test/scratches_129.jpg: 640x640 1 inclusion, 1 scratches, Done. (0.054s)\n",
            "image 231/270 /content/dataset/images/test/scratches_137.jpg: 640x640 1 inclusion, 1 scratches, Done. (0.053s)\n",
            "image 232/270 /content/dataset/images/test/scratches_144.jpg: 640x640 3 scratchess, Done. (0.053s)\n",
            "image 233/270 /content/dataset/images/test/scratches_146.jpg: 640x640 1 inclusion, 2 scratchess, Done. (0.052s)\n",
            "image 234/270 /content/dataset/images/test/scratches_147.jpg: 640x640 2 inclusions, 2 scratchess, Done. (0.052s)\n",
            "image 235/270 /content/dataset/images/test/scratches_160.jpg: 640x640 4 scratchess, Done. (0.052s)\n",
            "image 236/270 /content/dataset/images/test/scratches_161.jpg: 640x640 4 scratchess, Done. (0.052s)\n",
            "image 237/270 /content/dataset/images/test/scratches_164.jpg: 640x640 3 scratchess, Done. (0.051s)\n",
            "image 238/270 /content/dataset/images/test/scratches_166.jpg: 640x640 4 scratchess, Done. (0.052s)\n",
            "image 239/270 /content/dataset/images/test/scratches_168.jpg: 640x640 3 scratchess, Done. (0.052s)\n",
            "image 240/270 /content/dataset/images/test/scratches_170.jpg: 640x640 1 inclusion, 1 scratches, Done. (0.052s)\n",
            "image 241/270 /content/dataset/images/test/scratches_178.jpg: 640x640 1 scratches, Done. (0.052s)\n",
            "image 242/270 /content/dataset/images/test/scratches_183.jpg: 640x640 1 inclusion, 2 scratchess, Done. (0.053s)\n",
            "image 243/270 /content/dataset/images/test/scratches_184.jpg: 640x640 1 scratches, Done. (0.053s)\n",
            "image 244/270 /content/dataset/images/test/scratches_187.jpg: 640x640 2 scratchess, Done. (0.053s)\n",
            "image 245/270 /content/dataset/images/test/scratches_188.jpg: 640x640 2 scratchess, Done. (0.053s)\n",
            "image 246/270 /content/dataset/images/test/scratches_193.jpg: 640x640 2 scratchess, Done. (0.052s)\n",
            "image 247/270 /content/dataset/images/test/scratches_196.jpg: 640x640 1 inclusion, 3 scratchess, Done. (0.052s)\n",
            "image 248/270 /content/dataset/images/test/scratches_21.jpg: 640x640 2 scratchess, Done. (0.052s)\n",
            "image 249/270 /content/dataset/images/test/scratches_222.jpg: 640x640 1 inclusion, 3 scratchess, Done. (0.052s)\n",
            "image 250/270 /content/dataset/images/test/scratches_225.jpg: 640x640 1 inclusion, 4 scratchess, Done. (0.052s)\n",
            "image 251/270 /content/dataset/images/test/scratches_237.jpg: 640x640 2 scratchess, Done. (0.052s)\n",
            "image 252/270 /content/dataset/images/test/scratches_246.jpg: 640x640 Done. (0.052s)\n",
            "image 253/270 /content/dataset/images/test/scratches_25.jpg: 640x640 2 scratchess, Done. (0.054s)\n",
            "image 254/270 /content/dataset/images/test/scratches_250.jpg: 640x640 1 scratches, Done. (0.053s)\n",
            "image 255/270 /content/dataset/images/test/scratches_251.jpg: 640x640 1 inclusion, 2 scratchess, Done. (0.054s)\n",
            "image 256/270 /content/dataset/images/test/scratches_253.jpg: 640x640 2 scratchess, Done. (0.052s)\n",
            "image 257/270 /content/dataset/images/test/scratches_26.jpg: 640x640 2 scratchess, Done. (0.053s)\n",
            "image 258/270 /content/dataset/images/test/scratches_271.jpg: 640x640 1 scratches, Done. (0.054s)\n",
            "image 259/270 /content/dataset/images/test/scratches_272.jpg: 640x640 2 scratchess, Done. (0.053s)\n",
            "image 260/270 /content/dataset/images/test/scratches_278.jpg: 640x640 2 scratchess, Done. (0.053s)\n",
            "image 261/270 /content/dataset/images/test/scratches_285.jpg: 640x640 1 scratches, Done. (0.052s)\n",
            "image 262/270 /content/dataset/images/test/scratches_289.jpg: 640x640 1 pitted_surface, 1 scratches, Done. (0.052s)\n",
            "image 263/270 /content/dataset/images/test/scratches_293.jpg: 640x640 3 scratchess, Done. (0.053s)\n",
            "image 264/270 /content/dataset/images/test/scratches_294.jpg: 640x640 2 scratchess, Done. (0.052s)\n",
            "image 265/270 /content/dataset/images/test/scratches_39.jpg: 640x640 1 scratches, Done. (0.052s)\n",
            "image 266/270 /content/dataset/images/test/scratches_68.jpg: 640x640 2 scratchess, Done. (0.053s)\n",
            "image 267/270 /content/dataset/images/test/scratches_79.jpg: 640x640 1 inclusion, 1 scratches, Done. (0.052s)\n",
            "image 268/270 /content/dataset/images/test/scratches_82.jpg: 640x640 2 scratchess, Done. (0.053s)\n",
            "image 269/270 /content/dataset/images/test/scratches_89.jpg: 640x640 Done. (0.053s)\n",
            "image 270/270 /content/dataset/images/test/scratches_94.jpg: 640x640 1 scratches, Done. (0.054s)\n",
            "Speed: 0.5ms pre-process, 52.5ms inference, 1.0ms NMS per image at shape (1, 3, 640, 640)\n",
            "Results saved to \u001b[1mruns/detect/yolo_surface_defect\u001b[0m\n"
          ]
        }
      ]
    },
    {
      "cell_type": "code",
      "source": [
        "# tf.keras.utils.get_file(origin='https://highspeed-movies1.herokuapp.com/87689/yolov5.zip?hash=AgADDA', extract=True, cache_dir='.', cache_subdir='./saved_model')"
      ],
      "metadata": {
        "colab": {
          "base_uri": "https://localhost:8080/",
          "height": 90
        },
        "id": "MMBfBScd8_Di",
        "outputId": "3a304aff-fafe-41e0-e5c3-d50bfe098727"
      },
      "execution_count": 5,
      "outputs": [
        {
          "output_type": "stream",
          "name": "stdout",
          "text": [
            "Downloading data from https://highspeed-movies1.herokuapp.com/87689/yolov5.zip?hash=AgADDA\n",
            "327008256/327001193 [==============================] - 620s 2us/step\n",
            "327016448/327001193 [==============================] - 620s 2us/step\n"
          ]
        },
        {
          "output_type": "execute_result",
          "data": {
            "text/plain": [
              "'././saved_model/yolov5.zip'"
            ],
            "application/vnd.google.colaboratory.intrinsic+json": {
              "type": "string"
            }
          },
          "metadata": {},
          "execution_count": 5
        }
      ]
    },
    {
      "cell_type": "code",
      "source": [
        "detection_dir = 'runs/detect/yolo_surface_defect'\n",
        "\n",
        "random_test_image = Image.open(random.choice(list(Path(detection_dir).glob('*'))))\n",
        "plt.imshow(random_test_image)"
      ],
      "metadata": {
        "colab": {
          "base_uri": "https://localhost:8080/",
          "height": 287
        },
        "id": "D-5hWr6ANDI5",
        "outputId": "ce33bfb9-efc2-46b5-c996-c554055ed8d7"
      },
      "execution_count": null,
      "outputs": [
        {
          "output_type": "execute_result",
          "data": {
            "text/plain": [
              "<matplotlib.image.AxesImage at 0x7f07601a6f10>"
            ]
          },
          "metadata": {},
          "execution_count": 43
        },
        {
          "output_type": "display_data",
          "data": {
            "image/png": "[encoded data removed]",
            "text/plain": [
              "<Figure size 432x288 with 1 Axes>"
            ]
          },
          "metadata": {
            "needs_background": "light"
          }
        }
      ]
    },
    {
      "cell_type": "code",
      "source": [
        "!python val.py --weights runs/train/yolo_surface_defect2/weights/best.pt --data surface_defect_data.yaml --task test --name yolo_surface_defect"
      ],
      "metadata": {
        "colab": {
          "base_uri": "https://localhost:8080/"
        },
        "id": "kbyKav1JOItf",
        "outputId": "0abced9c-dc71-4010-aa2b-bf647668b904"
      },
      "execution_count": null,
      "outputs": [
        {
          "output_type": "stream",
          "name": "stdout",
          "text": [
            "\u001b[34m\u001b[1mval: \u001b[0mdata=/content/yolov5/data/surface_defect_data.yaml, weights=['runs/train/yolo_surface_defect2/weights/best.pt'], batch_size=32, imgsz=640, conf_thres=0.001, iou_thres=0.6, task=test, device=, workers=8, single_cls=False, augment=False, verbose=False, save_txt=False, save_hybrid=False, save_conf=False, save_json=False, project=runs/val, name=yolo_surface_defect, exist_ok=False, half=False, dnn=False\n",
            "YOLOv5 🚀 v6.1-21-ge6e36aa torch 1.10.0+cu111 CUDA:0 (Tesla T4, 15110MiB)\n",
            "\n",
            "Fusing layers... \n",
            "Model Summary: 444 layers, 86207059 parameters, 0 gradients\n",
            "\u001b[34m\u001b[1mtest: \u001b[0mScanning '/content/yolov5/../dataset/labels/test' images and labels...270 found, 0 missing, 0 empty, 0 corrupt: 100% 270/270 [00:00<00:00, 744.22it/s]\n",
            "\u001b[34m\u001b[1mtest: \u001b[0mNew cache created: /content/yolov5/../dataset/labels/test.cache\n",
            "               Class     Images     Labels          P          R     mAP@.5 mAP@.5:.95: 100% 9/9 [00:16<00:00,  1.82s/it]\n",
            "                 all        270        653      0.681      0.737      0.738      0.402\n",
            "             crazing        270         75      0.463      0.507      0.443      0.134\n",
            "           inclusion        270        177      0.696      0.859      0.856      0.474\n",
            "             patches        270        138      0.833      0.935      0.944      0.585\n",
            "      pitted_surface        270         57      0.785      0.649      0.721       0.42\n",
            "     rolled-in_scale        270        110      0.501      0.673      0.612      0.273\n",
            "           scratches        270         96      0.807      0.802       0.85      0.525\n",
            "Speed: 1.4ms pre-process, 50.0ms inference, 2.0ms NMS per image at shape (32, 3, 640, 640)\n",
            "Results saved to \u001b[1mruns/val/yolo_surface_defect\u001b[0m\n"
          ]
        }
      ]
    }
  ],
  "metadata": {
    "kernelspec": {
      "display_name": "Python 3",
      "language": "python",
      "name": "python3"
    },
    "language_info": {
      "codemirror_mode": {
        "name": "ipython",
        "version": 3
      },
      "file_extension": ".py",
      "mimetype": "text/x-python",
      "name": "python",
      "nbconvert_exporter": "python",
      "pygments_lexer": "ipython3",
      "version": "3.8.10"
    },
    "varInspector": {
      "cols": {
        "lenName": 16,
        "lenType": 16,
        "lenVar": 40
      },
      "kernels_config": {
        "python": {
          "delete_cmd_postfix": "",
          "delete_cmd_prefix": "del ",
          "library": "var_list.py",
          "varRefreshCmd": "print(var_dic_list())"
        },
        "r": {
          "delete_cmd_postfix": ") ",
          "delete_cmd_prefix": "rm(",
          "library": "var_list.r",
          "varRefreshCmd": "cat(var_dic_list()) "
        }
      },
      "types_to_exclude": [
        "module",
        "function",
        "builtin_function_or_method",
        "instance",
        "_Feature"
      ],
      "window_display": false
    },
    "colab": {
      "name": "surface_defect_detection.ipynb",
      "provenance": [],
      "include_colab_link": true
    }
  },
  "nbformat": 4,
  "nbformat_minor": 0
}