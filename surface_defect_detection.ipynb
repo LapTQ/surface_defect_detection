{
  "cells": [
    {
      "cell_type": "markdown",
      "source": [
        "Small Sample Problem:\n",
        "* mirroring, rotation, translation, distortion, filtering, and contrast adjustment\n",
        "* data synthesis, where individual defects are often fused and superimposed on normal (non-defective) samples\n",
        "* Transfer Learning\n",
        "* Reasonable Network Structure Design (Embbedding, compressed input)\n",
        "* Unsupervised (only normal samples are used for training) or Semi-supervised Method"
      ],
      "metadata": {
        "id": "RdSoW8caiQXU"
      }
    },
    {
      "cell_type": "code",
      "execution_count": null,
      "metadata": {
        "id": "7otFLiDrhp0i"
      },
      "outputs": [],
      "source": [
        ""
      ]
    }
  ],
  "metadata": {
    "kernelspec": {
      "display_name": "Python 3",
      "language": "python",
      "name": "python3"
    },
    "language_info": {
      "codemirror_mode": {
        "name": "ipython",
        "version": 3
      },
      "file_extension": ".py",
      "mimetype": "text/x-python",
      "name": "python",
      "nbconvert_exporter": "python",
      "pygments_lexer": "ipython3",
      "version": "3.8.10"
    },
    "varInspector": {
      "cols": {
        "lenName": 16,
        "lenType": 16,
        "lenVar": 40
      },
      "kernels_config": {
        "python": {
          "delete_cmd_postfix": "",
          "delete_cmd_prefix": "del ",
          "library": "var_list.py",
          "varRefreshCmd": "print(var_dic_list())"
        },
        "r": {
          "delete_cmd_postfix": ") ",
          "delete_cmd_prefix": "rm(",
          "library": "var_list.r",
          "varRefreshCmd": "cat(var_dic_list()) "
        }
      },
      "types_to_exclude": [
        "module",
        "function",
        "builtin_function_or_method",
        "instance",
        "_Feature"
      ],
      "window_display": false
    },
    "colab": {
      "name": "surface_defect_detection.ipynb",
      "provenance": []
    }
  },
  "nbformat": 4,
  "nbformat_minor": 0
}